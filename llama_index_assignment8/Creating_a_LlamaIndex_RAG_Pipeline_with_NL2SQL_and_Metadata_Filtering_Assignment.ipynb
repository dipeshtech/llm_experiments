{
  "cells": [
    {
      "cell_type": "markdown",
      "metadata": {
        "id": "x5TTdyIoo3i7"
      },
      "source": [
        "# Creating a LlamaIndex RAG Pipeline with NL2SQL and Metadata Filtering!\n",
        "\n",
        "We'll be putting together a system for querying both qualitative and quantitative data using LlamaIndex.\n",
        "\n",
        "The acitvities will be broken down as follows:\n",
        "\n",
        "- 🤝 Breakout Room #1\n",
        "  - Task 1: Load Dependencies\n",
        "  - Task 2: Set Env Variables and Set Up WandB Callback\n",
        "  - Task 3: Initialize Settings\n",
        "  - Task 4: Semantic RAG Pipeline with Metadata Filtering\n",
        "- 🤝 Breakout Room #2\n",
        "  - Task 1: Quantitative RAG Pipeline with NL2SQL Tooling\n",
        "  - Task 2: Combined RAG Pipeline\n",
        "\n",
        "Before we get started, however, a quick note on terminology.\n"
      ]
    },
    {
      "cell_type": "markdown",
      "metadata": {
        "id": "vcvGuykZSV_8"
      },
      "source": [
        "### A note on terminology:\n",
        "\n",
        "You'll notice that there are quite a few similarities between LangChain and LlamaIndex. LlamaIndex can largely be thought of as an extension to LangChain, in some ways - but they moved some of the language around. Let's spend a few moments disambiguating the language.\n",
        "\n",
        "- `QueryEngine` -> `LCEL Chain`:\n",
        "  -  `QueryEngine` is just LlamaIndex's way of indicating something is an LLM \"chain\" on top of a retrieval system\n",
        "- `OpenAIAgent` vs. `Agent`:\n",
        "  - The two agents have the same fundamental pattern: Decide which of a list of tools to use to answer a user's query.\n",
        "  - `OpenAIAgent` (LlamaIndex's primary agent) does not need to rely on an agent excecutor due to the fact that it is leveraging OpenAI's [functional api](https://openai.com/blog/function-calling-and-other-api-updates) which allows the agent to interface \"directly\" with the tools instead of operating through an intermediary application process.\n",
        "\n",
        "There is, however, a much large terminological difference when it comes to discussing data.\n",
        "\n",
        "##### Nodes vs. Documents\n",
        "\n",
        "As you're aware of from the previous weeks assignments, there's an idea of `documents` in NLP which refers to text objects that exist within a corpus of documents.\n",
        "\n",
        "LlamaIndex takes this a step further and reclassifies `documents` as `nodes`. Confusingly, it refers to the `Source Document` as simply `Documents`.\n",
        "\n",
        "The `Document` -> `node` structure is, almost exactly, equivalent to the `Source Document` -> `Document` structure found in LangChain - but the new terminology comes with some clarity about different structure-indices.\n",
        "\n",
        "We won't be leveraging those structured indicies today, but we will be leveraging a \"benefit\" of the `node` structure that exists as a default in LlamaIndex, which is the ability to quickly filter nodes based on their metadata.\n",
        "\n",
        "![image](https://i.imgur.com/B1QDjs5.png)"
      ]
    },
    {
      "cell_type": "markdown",
      "metadata": {
        "id": "dkLLmDFnOfOs"
      },
      "source": [
        "# 🤝 Breakout Room #1"
      ]
    },
    {
      "cell_type": "markdown",
      "metadata": {
        "id": "Msvju70DSV_8"
      },
      "source": [
        "## BOILERPLATE\n",
        "\n",
        "This is only relevant when running the code in a Jupyter Notebook."
      ]
    },
    {
      "cell_type": "code",
      "execution_count": 2,
      "metadata": {
        "id": "7VF57GcmSV_9"
      },
      "outputs": [],
      "source": [
        "import nest_asyncio\n",
        "\n",
        "nest_asyncio.apply()\n",
        "\n",
        "import logging\n",
        "import sys\n",
        "\n",
        "logging.basicConfig(stream=sys.stdout, level=logging.INFO)\n",
        "logging.getLogger().addHandler(logging.StreamHandler(stream=sys.stdout))"
      ]
    },
    {
      "cell_type": "markdown",
      "metadata": {
        "id": "6zQBPs6zSV_9"
      },
      "source": [
        "## Task 1: Load Dependencies"
      ]
    },
    {
      "cell_type": "markdown",
      "metadata": {
        "id": "WhEbxl3nSV_9"
      },
      "source": [
        "Let's grab our core `llama-index` library, as well as OpenAI's Python SDK.\n",
        "\n",
        "We'll be leveraging OpenAI's suite of APIs to power our RAG pipelines today.\n",
        "\n",
        "> NOTE: You can safely ignore any pip errors that occur during the running of these cells."
      ]
    },
    {
      "cell_type": "code",
      "execution_count": 3,
      "metadata": {
        "colab": {
          "base_uri": "https://localhost:8080/"
        },
        "id": "b3oyvtl2SV_9",
        "outputId": "41ef9ab4-5cb6-4094-b9aa-99eeb78378fd"
      },
      "outputs": [],
      "source": [
        "!pip install -qU llama-index openai"
      ]
    },
    {
      "cell_type": "markdown",
      "metadata": {
        "id": "6Jifl-qHO8MU"
      },
      "source": [
        "We'll be using [Weights and Biases](https://docs.wandb.ai/guides/prompts) (WandB) again for today's notebook!"
      ]
    },
    {
      "cell_type": "code",
      "execution_count": 4,
      "metadata": {
        "colab": {
          "base_uri": "https://localhost:8080/"
        },
        "id": "9UcQpjG9Ovlk",
        "outputId": "b3e91a48-4b52-4c10-c0e7-30b7c3b4bd97"
      },
      "outputs": [],
      "source": [
        "!pip install -qU wandb llama-index-callbacks-wandb"
      ]
    },
    {
      "cell_type": "markdown",
      "metadata": {
        "id": "uqTXRTrLPatl"
      },
      "source": [
        "We'll be collecting our semantic data from Wikipedia - and so will need the [Wikipedia Reader](https://github.com/run-llama/llama_index/tree/main/llama-index-integrations/readers/llama-index-readers-wikipedia)!"
      ]
    },
    {
      "cell_type": "code",
      "execution_count": 5,
      "metadata": {
        "colab": {
          "base_uri": "https://localhost:8080/"
        },
        "id": "f9kXf7pPSV_-",
        "outputId": "ea5f9d33-0448-4ecc-9814-ad0e42b867cc"
      },
      "outputs": [],
      "source": [
        "!pip install -qU wikipedia llama-index-readers-wikipedia"
      ]
    },
    {
      "cell_type": "markdown",
      "metadata": {
        "id": "Qq_rWHZEPrCO"
      },
      "source": [
        "Our vector database today will be powered by [ChromaDB](https://github.com/chroma-core/chroma) and so we'll need that package as well!"
      ]
    },
    {
      "cell_type": "code",
      "execution_count": 6,
      "metadata": {
        "id": "iMCA8HFGEPF_"
      },
      "outputs": [],
      "source": [
        "!pip install -qU chromadb llama-index-vector-stores-chroma"
      ]
    },
    {
      "cell_type": "markdown",
      "metadata": {
        "id": "wNHDqna1P1NQ"
      },
      "source": [
        "Finally, we'll need to grab a few dependencies related to our quantitative data!"
      ]
    },
    {
      "cell_type": "code",
      "execution_count": 7,
      "metadata": {
        "colab": {
          "base_uri": "https://localhost:8080/"
        },
        "id": "BrT8a3c0SV__",
        "outputId": "8d4e55c9-158f-4ce5-8308-11da18072bec"
      },
      "outputs": [],
      "source": [
        "!pip install -q -U sqlalchemy pandas"
      ]
    },
    {
      "cell_type": "markdown",
      "metadata": {
        "id": "WuZM6UjePVBk"
      },
      "source": [
        "We'll grab some additional miscellaneous dependencies here."
      ]
    },
    {
      "cell_type": "code",
      "execution_count": 8,
      "metadata": {
        "colab": {
          "base_uri": "https://localhost:8080/"
        },
        "id": "vqPJv3jUSV_-",
        "outputId": "b3386786-8dc0-45a8-e1ef-b2affe6a1315"
      },
      "outputs": [
        {
          "name": "stdout",
          "output_type": "stream",
          "text": [
            "\u001b[31mERROR: pip's dependency resolver does not currently take into account all the packages that are installed. This behaviour is the source of the following dependency conflicts.\n",
            "langchain-openai 0.1.1 requires tiktoken<1,>=0.5.2, but you have tiktoken 0.4.0 which is incompatible.\u001b[0m\u001b[31m\n",
            "\u001b[0m"
          ]
        }
      ],
      "source": [
        "!pip install -U -q tiktoken==0.4.0 sentence-transformers==2.2.2 pydantic==1.10.11"
      ]
    },
    {
      "cell_type": "markdown",
      "metadata": {
        "id": "ibtguieHP6n1"
      },
      "source": [
        "## Task 2: Set Env Variables and Set Up WandB Callback\n",
        "\n",
        "Let's set our API keys for both OpenAI and WandB!"
      ]
    },
    {
      "cell_type": "code",
      "execution_count": 9,
      "metadata": {
        "colab": {
          "base_uri": "https://localhost:8080/"
        },
        "id": "7IBgMTPTSV_9",
        "outputId": "8d41d7f0-49ff-4bb4-daa1-acd3a99033ec"
      },
      "outputs": [],
      "source": [
        "import os\n",
        "import getpass\n",
        "\n",
        "os.environ[\"OPENAI_API_KEY\"] = getpass.getpass(\"OpenAI API Key: \")"
      ]
    },
    {
      "cell_type": "code",
      "execution_count": 10,
      "metadata": {
        "colab": {
          "base_uri": "https://localhost:8080/"
        },
        "id": "4OHSwkDySV_-",
        "outputId": "78455f0d-783c-4adb-e19a-af6a010cdf8e"
      },
      "outputs": [],
      "source": [
        "os.environ[\"WANDB_API_KEY\"] = getpass.getpass(\"WandB API Key: \")"
      ]
    },
    {
      "cell_type": "markdown",
      "metadata": {
        "id": "Ut8E447rQBjY"
      },
      "source": [
        "We'll also need to set a callback handler for WandB to ensure smooth operation of our traces!"
      ]
    },
    {
      "cell_type": "code",
      "execution_count": 11,
      "metadata": {
        "id": "MoV2JINuSV_-"
      },
      "outputs": [
        {
          "name": "stdout",
          "output_type": "stream",
          "text": [
            "ERROR:wandb.jupyter:Failed to detect the name of this notebook, you can set it manually with the WANDB_NOTEBOOK_NAME environment variable to enable code saving.\n",
            "Failed to detect the name of this notebook, you can set it manually with the WANDB_NOTEBOOK_NAME environment variable to enable code saving.\n",
            "Failed to detect the name of this notebook, you can set it manually with the WANDB_NOTEBOOK_NAME environment variable to enable code saving.\n"
          ]
        },
        {
          "name": "stderr",
          "output_type": "stream",
          "text": [
            "\u001b[34m\u001b[1mwandb\u001b[0m: Streaming LlamaIndex events to W&B at https://wandb.ai/dipeshtech/aie1-llama-index-demo/runs/cdlt4sca\n",
            "\u001b[34m\u001b[1mwandb\u001b[0m: `WandbCallbackHandler` is currently in beta.\n",
            "\u001b[34m\u001b[1mwandb\u001b[0m: Please report any issues to https://github.com/wandb/wandb/issues with the tag `llamaindex`.\n"
          ]
        }
      ],
      "source": [
        "import llama_index\n",
        "from llama_index.core import set_global_handler\n",
        "\n",
        "set_global_handler(\"wandb\", run_args={\"project\": \"aie1-llama-index-demo\"})\n",
        "wandb_callback = llama_index.core.global_handler"
      ]
    },
    {
      "cell_type": "markdown",
      "metadata": {
        "id": "UQwigweOSV_-"
      },
      "source": [
        "### Task 3: Settings\n",
        "\n",
        "LlamaIndex lets us set global settings which we can use to influence the default behaviour of our components.\n",
        "\n",
        "Let's set our LLM and our Embedding Model!"
      ]
    },
    {
      "cell_type": "code",
      "execution_count": 12,
      "metadata": {
        "id": "6KOy21KPSV_-"
      },
      "outputs": [],
      "source": [
        "from llama_index.llms.openai import OpenAI\n",
        "from llama_index.embeddings.openai import OpenAIEmbedding\n",
        "from llama_index.core import Settings\n",
        "\n",
        "Settings.llm = OpenAI(model=\"gpt-3.5-turbo\")\n",
        "Settings.embed_model = OpenAIEmbedding(model=\"text-embedding-3-small\")"
      ]
    },
    {
      "cell_type": "markdown",
      "metadata": {
        "id": "eiOdw7EQSV_-"
      },
      "source": [
        "## Task 4: Semantic RAG Pipeline with Metadata Filtering\n",
        "\n",
        "Now we can get to work creating our semantic `QueryEngine`!\n",
        "\n",
        "We'll start, as we normally do, by grabbing some data.\n",
        "\n",
        "> NOTE: Remember that a query engine is just a different word for a chain!"
      ]
    },
    {
      "cell_type": "markdown",
      "metadata": {
        "id": "iDEtQQWnSV_-"
      },
      "source": [
        "### Data Collection\n",
        "\n",
        "We're just going to be pulling information straight from Wikipedia using the built in `WikipediaReader`.\n",
        "\n",
        "> NOTE: Setting `auto_suggest=False` ensures we run into fewer auto-correct based errors."
      ]
    },
    {
      "cell_type": "code",
      "execution_count": 13,
      "metadata": {
        "id": "OrzzrnYMSV_-"
      },
      "outputs": [],
      "source": [
        "from llama_index.readers.wikipedia import WikipediaReader\n",
        "\n",
        "movie_list = [\"Dune (2021 film)\", \"Dune: Part Two\"]\n",
        "\n",
        "wiki_docs = WikipediaReader().load_data(pages=movie_list, auto_suggest=False)"
      ]
    },
    {
      "cell_type": "markdown",
      "metadata": {
        "id": "-6FRQ4hfSV_-"
      },
      "source": [
        "### Initializing our VectorStoreIndex with ChromaDB\n",
        "\n",
        "ChromaDB is a locally hostable and open-source vector database solution.\n",
        "\n",
        "It offers powerful features like metadata filtering out of the box, and will suit our needs well today!\n",
        "\n",
        "We'll start by creating our local `EphemeralClient()` (in-memory and not meant for production use-cases) and our collection.\n",
        "\n",
        "Then we'll create our `VectorStore` and `StorageContext` which will allow us to create an empty `VectorStoreIndex` which we will be able to add nodes to later!"
      ]
    },
    {
      "cell_type": "code",
      "execution_count": null,
      "metadata": {
        "id": "b1ut96aSEVwY"
      },
      "outputs": [],
      "source": [
        "from llama_index.vector_stores.chroma import ChromaVectorStore\n",
        "import chromadb\n",
        "\n",
        "chroma_client = chromadb.EphemeralClient()\n",
        "chroma_collection = chroma_client.create_collection(\"dune-v0\")"
      ]
    },
    {
      "cell_type": "code",
      "execution_count": 16,
      "metadata": {
        "colab": {
          "base_uri": "https://localhost:8080/"
        },
        "id": "lZ5xilm1SV_-",
        "outputId": "3e0c322c-e0a5-4867-ae01-e5bcf77bef90"
      },
      "outputs": [
        {
          "name": "stderr",
          "output_type": "stream",
          "text": [
            "\u001b[34m\u001b[1mwandb\u001b[0m: Logged trace tree to W&B.\n"
          ]
        }
      ],
      "source": [
        "from llama_index.core import VectorStoreIndex\n",
        "from llama_index.core import StorageContext\n",
        "\n",
        "vector_store = ChromaVectorStore(chroma_collection=chroma_collection)\n",
        "storage_context = StorageContext.from_defaults(vector_store=vector_store)\n",
        "index = VectorStoreIndex.from_documents([], storage_context=storage_context)"
      ]
    },
    {
      "cell_type": "markdown",
      "metadata": {
        "id": "6qtzVDelSV_-"
      },
      "source": [
        "### Node Construction\n",
        "\n",
        "Now we will loop through our documents and metadata and construct nodes.\n",
        "\n",
        "We'll make sure to explicitly associate our nodes with their respective movie so we can filter by the movie title in the upcoming cells.\n",
        "\n",
        "> NOTE: You can safely ignore any WARNINGs in the following cell."
      ]
    },
    {
      "cell_type": "code",
      "execution_count": 17,
      "metadata": {
        "colab": {
          "base_uri": "https://localhost:8080/"
        },
        "id": "LP4INgSGSV_-",
        "outputId": "c0680135-0c2e-40b6-978f-97804a39d707"
      },
      "outputs": [
        {
          "name": "stdout",
          "output_type": "stream",
          "text": [
            "INFO:httpx:HTTP Request: POST https://api.openai.com/v1/embeddings \"HTTP/1.1 200 OK\"\n",
            "HTTP Request: POST https://api.openai.com/v1/embeddings \"HTTP/1.1 200 OK\"\n",
            "HTTP Request: POST https://api.openai.com/v1/embeddings \"HTTP/1.1 200 OK\"\n",
            "INFO:httpx:HTTP Request: POST https://api.openai.com/v1/embeddings \"HTTP/1.1 200 OK\"\n",
            "HTTP Request: POST https://api.openai.com/v1/embeddings \"HTTP/1.1 200 OK\"\n",
            "HTTP Request: POST https://api.openai.com/v1/embeddings \"HTTP/1.1 200 OK\"\n",
            "WARNING:chromadb.segment.impl.metadata.sqlite:Insert of existing embedding ID: d3dd0115-f695-44f3-805b-10abf9b01264\n",
            "Insert of existing embedding ID: d3dd0115-f695-44f3-805b-10abf9b01264\n",
            "Insert of existing embedding ID: d3dd0115-f695-44f3-805b-10abf9b01264\n",
            "WARNING:chromadb.segment.impl.metadata.sqlite:Insert of existing embedding ID: 86df4396-0000-4daa-ac87-57826bf4cfc3\n",
            "Insert of existing embedding ID: 86df4396-0000-4daa-ac87-57826bf4cfc3\n",
            "Insert of existing embedding ID: 86df4396-0000-4daa-ac87-57826bf4cfc3\n",
            "WARNING:chromadb.segment.impl.metadata.sqlite:Insert of existing embedding ID: 2193f46a-0429-4e23-b249-189279f213ad\n",
            "Insert of existing embedding ID: 2193f46a-0429-4e23-b249-189279f213ad\n",
            "Insert of existing embedding ID: 2193f46a-0429-4e23-b249-189279f213ad\n",
            "WARNING:chromadb.segment.impl.metadata.sqlite:Insert of existing embedding ID: 0e507079-24a8-4e9f-9449-d8fc227af427\n",
            "Insert of existing embedding ID: 0e507079-24a8-4e9f-9449-d8fc227af427\n",
            "Insert of existing embedding ID: 0e507079-24a8-4e9f-9449-d8fc227af427\n",
            "WARNING:chromadb.segment.impl.metadata.sqlite:Insert of existing embedding ID: e2fce836-c29e-4b29-957c-23d1267a0e77\n",
            "Insert of existing embedding ID: e2fce836-c29e-4b29-957c-23d1267a0e77\n",
            "Insert of existing embedding ID: e2fce836-c29e-4b29-957c-23d1267a0e77\n",
            "WARNING:chromadb.segment.impl.metadata.sqlite:Insert of existing embedding ID: 3324ef86-4513-4a80-b652-96b22df6078a\n",
            "Insert of existing embedding ID: 3324ef86-4513-4a80-b652-96b22df6078a\n",
            "Insert of existing embedding ID: 3324ef86-4513-4a80-b652-96b22df6078a\n",
            "WARNING:chromadb.segment.impl.metadata.sqlite:Insert of existing embedding ID: 79a08e77-4a77-46c0-b96b-f8715f52990b\n",
            "Insert of existing embedding ID: 79a08e77-4a77-46c0-b96b-f8715f52990b\n",
            "Insert of existing embedding ID: 79a08e77-4a77-46c0-b96b-f8715f52990b\n",
            "WARNING:chromadb.segment.impl.metadata.sqlite:Insert of existing embedding ID: b40e3c57-c8a8-4c7b-a154-0852db3195ff\n",
            "Insert of existing embedding ID: b40e3c57-c8a8-4c7b-a154-0852db3195ff\n",
            "Insert of existing embedding ID: b40e3c57-c8a8-4c7b-a154-0852db3195ff\n",
            "WARNING:chromadb.segment.impl.metadata.sqlite:Insert of existing embedding ID: 52ef07fe-5b7b-44d8-a552-dee9d4b45247\n",
            "Insert of existing embedding ID: 52ef07fe-5b7b-44d8-a552-dee9d4b45247\n",
            "Insert of existing embedding ID: 52ef07fe-5b7b-44d8-a552-dee9d4b45247\n",
            "WARNING:chromadb.segment.impl.metadata.sqlite:Insert of existing embedding ID: 4670b566-3e5b-4dd0-824e-57c0ef3781f7\n",
            "Insert of existing embedding ID: 4670b566-3e5b-4dd0-824e-57c0ef3781f7\n",
            "Insert of existing embedding ID: 4670b566-3e5b-4dd0-824e-57c0ef3781f7\n",
            "WARNING:chromadb.segment.impl.metadata.sqlite:Insert of existing embedding ID: c5c13c8b-250d-4d2b-b557-f7a88c7a94e7\n",
            "Insert of existing embedding ID: c5c13c8b-250d-4d2b-b557-f7a88c7a94e7\n",
            "Insert of existing embedding ID: c5c13c8b-250d-4d2b-b557-f7a88c7a94e7\n",
            "WARNING:chromadb.segment.impl.metadata.sqlite:Insert of existing embedding ID: 21b8651a-a012-4494-b531-be6e629ccf45\n",
            "Insert of existing embedding ID: 21b8651a-a012-4494-b531-be6e629ccf45\n",
            "Insert of existing embedding ID: 21b8651a-a012-4494-b531-be6e629ccf45\n",
            "WARNING:chromadb.segment.impl.metadata.sqlite:Insert of existing embedding ID: 7ebcce1b-33cb-4be8-b269-0c3ec7e2d60c\n",
            "Insert of existing embedding ID: 7ebcce1b-33cb-4be8-b269-0c3ec7e2d60c\n",
            "Insert of existing embedding ID: 7ebcce1b-33cb-4be8-b269-0c3ec7e2d60c\n",
            "WARNING:chromadb.segment.impl.metadata.sqlite:Insert of existing embedding ID: 74ae6a35-08a8-41c8-abcc-a8fe394647c8\n",
            "Insert of existing embedding ID: 74ae6a35-08a8-41c8-abcc-a8fe394647c8\n",
            "Insert of existing embedding ID: 74ae6a35-08a8-41c8-abcc-a8fe394647c8\n",
            "WARNING:chromadb.segment.impl.metadata.sqlite:Insert of existing embedding ID: 4a018d9c-8395-4ee4-a5b9-6b121f7a647b\n",
            "Insert of existing embedding ID: 4a018d9c-8395-4ee4-a5b9-6b121f7a647b\n",
            "Insert of existing embedding ID: 4a018d9c-8395-4ee4-a5b9-6b121f7a647b\n",
            "WARNING:chromadb.segment.impl.metadata.sqlite:Insert of existing embedding ID: 3eebf9ff-e5e5-4ad0-9b47-763b216c8f43\n",
            "Insert of existing embedding ID: 3eebf9ff-e5e5-4ad0-9b47-763b216c8f43\n",
            "Insert of existing embedding ID: 3eebf9ff-e5e5-4ad0-9b47-763b216c8f43\n",
            "WARNING:chromadb.segment.impl.metadata.sqlite:Insert of existing embedding ID: cd1c202a-17e1-46bf-94ca-393952d0d109\n",
            "Insert of existing embedding ID: cd1c202a-17e1-46bf-94ca-393952d0d109\n",
            "Insert of existing embedding ID: cd1c202a-17e1-46bf-94ca-393952d0d109\n",
            "WARNING:chromadb.segment.impl.metadata.sqlite:Insert of existing embedding ID: b4f041cb-a8db-4d25-a4af-c527a69da152\n",
            "Insert of existing embedding ID: b4f041cb-a8db-4d25-a4af-c527a69da152\n",
            "Insert of existing embedding ID: b4f041cb-a8db-4d25-a4af-c527a69da152\n",
            "WARNING:chromadb.segment.impl.metadata.sqlite:Insert of existing embedding ID: 2006faac-293c-4dc7-a9f2-0eed1128c75e\n",
            "Insert of existing embedding ID: 2006faac-293c-4dc7-a9f2-0eed1128c75e\n",
            "Insert of existing embedding ID: 2006faac-293c-4dc7-a9f2-0eed1128c75e\n",
            "WARNING:chromadb.segment.impl.metadata.sqlite:Insert of existing embedding ID: 12efd64e-1924-4387-8253-7a9342370121\n",
            "Insert of existing embedding ID: 12efd64e-1924-4387-8253-7a9342370121\n",
            "Insert of existing embedding ID: 12efd64e-1924-4387-8253-7a9342370121\n",
            "WARNING:chromadb.segment.impl.metadata.sqlite:Insert of existing embedding ID: c0dd9e24-1665-47c1-9436-b0980ab0b198\n",
            "Insert of existing embedding ID: c0dd9e24-1665-47c1-9436-b0980ab0b198\n",
            "Insert of existing embedding ID: c0dd9e24-1665-47c1-9436-b0980ab0b198\n",
            "WARNING:chromadb.segment.impl.metadata.sqlite:Insert of existing embedding ID: e028644b-8dfa-4a0f-8620-68818d39ed71\n",
            "Insert of existing embedding ID: e028644b-8dfa-4a0f-8620-68818d39ed71\n",
            "Insert of existing embedding ID: e028644b-8dfa-4a0f-8620-68818d39ed71\n",
            "WARNING:chromadb.segment.impl.vector.local_hnsw:Add of existing embedding ID: d3dd0115-f695-44f3-805b-10abf9b01264\n",
            "Add of existing embedding ID: d3dd0115-f695-44f3-805b-10abf9b01264\n",
            "Add of existing embedding ID: d3dd0115-f695-44f3-805b-10abf9b01264\n",
            "WARNING:chromadb.segment.impl.vector.local_hnsw:Add of existing embedding ID: 86df4396-0000-4daa-ac87-57826bf4cfc3\n",
            "Add of existing embedding ID: 86df4396-0000-4daa-ac87-57826bf4cfc3\n",
            "Add of existing embedding ID: 86df4396-0000-4daa-ac87-57826bf4cfc3\n",
            "WARNING:chromadb.segment.impl.vector.local_hnsw:Add of existing embedding ID: 2193f46a-0429-4e23-b249-189279f213ad\n",
            "Add of existing embedding ID: 2193f46a-0429-4e23-b249-189279f213ad\n",
            "Add of existing embedding ID: 2193f46a-0429-4e23-b249-189279f213ad\n",
            "WARNING:chromadb.segment.impl.vector.local_hnsw:Add of existing embedding ID: 0e507079-24a8-4e9f-9449-d8fc227af427\n",
            "Add of existing embedding ID: 0e507079-24a8-4e9f-9449-d8fc227af427\n",
            "Add of existing embedding ID: 0e507079-24a8-4e9f-9449-d8fc227af427\n",
            "WARNING:chromadb.segment.impl.vector.local_hnsw:Add of existing embedding ID: e2fce836-c29e-4b29-957c-23d1267a0e77\n",
            "Add of existing embedding ID: e2fce836-c29e-4b29-957c-23d1267a0e77\n",
            "Add of existing embedding ID: e2fce836-c29e-4b29-957c-23d1267a0e77\n",
            "WARNING:chromadb.segment.impl.vector.local_hnsw:Add of existing embedding ID: 3324ef86-4513-4a80-b652-96b22df6078a\n",
            "Add of existing embedding ID: 3324ef86-4513-4a80-b652-96b22df6078a\n",
            "Add of existing embedding ID: 3324ef86-4513-4a80-b652-96b22df6078a\n",
            "WARNING:chromadb.segment.impl.vector.local_hnsw:Add of existing embedding ID: 79a08e77-4a77-46c0-b96b-f8715f52990b\n",
            "Add of existing embedding ID: 79a08e77-4a77-46c0-b96b-f8715f52990b\n",
            "Add of existing embedding ID: 79a08e77-4a77-46c0-b96b-f8715f52990b\n",
            "WARNING:chromadb.segment.impl.vector.local_hnsw:Add of existing embedding ID: b40e3c57-c8a8-4c7b-a154-0852db3195ff\n",
            "Add of existing embedding ID: b40e3c57-c8a8-4c7b-a154-0852db3195ff\n",
            "Add of existing embedding ID: b40e3c57-c8a8-4c7b-a154-0852db3195ff\n",
            "WARNING:chromadb.segment.impl.vector.local_hnsw:Add of existing embedding ID: 52ef07fe-5b7b-44d8-a552-dee9d4b45247\n",
            "Add of existing embedding ID: 52ef07fe-5b7b-44d8-a552-dee9d4b45247\n",
            "Add of existing embedding ID: 52ef07fe-5b7b-44d8-a552-dee9d4b45247\n",
            "WARNING:chromadb.segment.impl.vector.local_hnsw:Add of existing embedding ID: 4670b566-3e5b-4dd0-824e-57c0ef3781f7\n",
            "Add of existing embedding ID: 4670b566-3e5b-4dd0-824e-57c0ef3781f7\n",
            "Add of existing embedding ID: 4670b566-3e5b-4dd0-824e-57c0ef3781f7\n",
            "WARNING:chromadb.segment.impl.vector.local_hnsw:Add of existing embedding ID: c5c13c8b-250d-4d2b-b557-f7a88c7a94e7\n",
            "Add of existing embedding ID: c5c13c8b-250d-4d2b-b557-f7a88c7a94e7\n",
            "Add of existing embedding ID: c5c13c8b-250d-4d2b-b557-f7a88c7a94e7\n",
            "WARNING:chromadb.segment.impl.vector.local_hnsw:Add of existing embedding ID: 21b8651a-a012-4494-b531-be6e629ccf45\n",
            "Add of existing embedding ID: 21b8651a-a012-4494-b531-be6e629ccf45\n",
            "Add of existing embedding ID: 21b8651a-a012-4494-b531-be6e629ccf45\n",
            "WARNING:chromadb.segment.impl.vector.local_hnsw:Add of existing embedding ID: 7ebcce1b-33cb-4be8-b269-0c3ec7e2d60c\n",
            "Add of existing embedding ID: 7ebcce1b-33cb-4be8-b269-0c3ec7e2d60c\n",
            "Add of existing embedding ID: 7ebcce1b-33cb-4be8-b269-0c3ec7e2d60c\n",
            "WARNING:chromadb.segment.impl.vector.local_hnsw:Add of existing embedding ID: 74ae6a35-08a8-41c8-abcc-a8fe394647c8\n",
            "Add of existing embedding ID: 74ae6a35-08a8-41c8-abcc-a8fe394647c8\n",
            "Add of existing embedding ID: 74ae6a35-08a8-41c8-abcc-a8fe394647c8\n",
            "WARNING:chromadb.segment.impl.vector.local_hnsw:Add of existing embedding ID: 4a018d9c-8395-4ee4-a5b9-6b121f7a647b\n",
            "Add of existing embedding ID: 4a018d9c-8395-4ee4-a5b9-6b121f7a647b\n",
            "Add of existing embedding ID: 4a018d9c-8395-4ee4-a5b9-6b121f7a647b\n",
            "WARNING:chromadb.segment.impl.vector.local_hnsw:Add of existing embedding ID: 3eebf9ff-e5e5-4ad0-9b47-763b216c8f43\n",
            "Add of existing embedding ID: 3eebf9ff-e5e5-4ad0-9b47-763b216c8f43\n",
            "Add of existing embedding ID: 3eebf9ff-e5e5-4ad0-9b47-763b216c8f43\n",
            "WARNING:chromadb.segment.impl.vector.local_hnsw:Add of existing embedding ID: cd1c202a-17e1-46bf-94ca-393952d0d109\n",
            "Add of existing embedding ID: cd1c202a-17e1-46bf-94ca-393952d0d109\n",
            "Add of existing embedding ID: cd1c202a-17e1-46bf-94ca-393952d0d109\n",
            "WARNING:chromadb.segment.impl.vector.local_hnsw:Add of existing embedding ID: b4f041cb-a8db-4d25-a4af-c527a69da152\n",
            "Add of existing embedding ID: b4f041cb-a8db-4d25-a4af-c527a69da152\n",
            "Add of existing embedding ID: b4f041cb-a8db-4d25-a4af-c527a69da152\n",
            "WARNING:chromadb.segment.impl.vector.local_hnsw:Add of existing embedding ID: 2006faac-293c-4dc7-a9f2-0eed1128c75e\n",
            "Add of existing embedding ID: 2006faac-293c-4dc7-a9f2-0eed1128c75e\n",
            "Add of existing embedding ID: 2006faac-293c-4dc7-a9f2-0eed1128c75e\n",
            "WARNING:chromadb.segment.impl.vector.local_hnsw:Add of existing embedding ID: 12efd64e-1924-4387-8253-7a9342370121\n",
            "Add of existing embedding ID: 12efd64e-1924-4387-8253-7a9342370121\n",
            "Add of existing embedding ID: 12efd64e-1924-4387-8253-7a9342370121\n",
            "WARNING:chromadb.segment.impl.vector.local_hnsw:Add of existing embedding ID: c0dd9e24-1665-47c1-9436-b0980ab0b198\n",
            "Add of existing embedding ID: c0dd9e24-1665-47c1-9436-b0980ab0b198\n",
            "Add of existing embedding ID: c0dd9e24-1665-47c1-9436-b0980ab0b198\n",
            "WARNING:chromadb.segment.impl.vector.local_hnsw:Add of existing embedding ID: e028644b-8dfa-4a0f-8620-68818d39ed71\n",
            "Add of existing embedding ID: e028644b-8dfa-4a0f-8620-68818d39ed71\n",
            "Add of existing embedding ID: e028644b-8dfa-4a0f-8620-68818d39ed71\n"
          ]
        }
      ],
      "source": [
        "from llama_index.core import SimpleDirectoryReader\n",
        "from llama_index.core.ingestion import IngestionPipeline\n",
        "from llama_index.core.node_parser import TokenTextSplitter\n",
        "from llama_index.core.extractors import TitleExtractor\n",
        "\n",
        "pipeline = IngestionPipeline(transformations=[TokenTextSplitter()])\n",
        "\n",
        "for movie, wiki_doc in zip(movie_list, wiki_docs):\n",
        "    nodes = pipeline.run(documents=wiki_docs)\n",
        "    for node in nodes:\n",
        "        node.metadata = {\"title\" : movie}\n",
        "    index.insert_nodes(nodes)"
      ]
    },
    {
      "cell_type": "markdown",
      "metadata": {
        "id": "biVzC-I4UAmB"
      },
      "source": [
        "####❓ Question #1:\n",
        "\n",
        "What `metadata` fields will the nodes in our index have?\n",
        "\n",
        "#### Dipesh's answer: It's the title field \n",
        "\n",
        "Please write the code to find this information.\n",
        "* Added code below"
      ]
    },
    {
      "cell_type": "code",
      "execution_count": 22,
      "metadata": {
        "id": "mt1lhxEnUKxO"
      },
      "outputs": [
        {
          "data": {
            "text/plain": [
              "{'title': 'Dune: Part Two'}"
            ]
          },
          "execution_count": 22,
          "metadata": {},
          "output_type": "execute_result"
        }
      ],
      "source": [
        "### YOUR CODE HERE\n",
        "nodes[0].metadata"
      ]
    },
    {
      "cell_type": "code",
      "execution_count": 34,
      "metadata": {},
      "outputs": [
        {
          "data": {
            "text/plain": [
              "[TextNode(id_='d3dd0115-f695-44f3-805b-10abf9b01264', embedding=None, metadata={'title': 'Dune: Part Two'}, excluded_embed_metadata_keys=[], excluded_llm_metadata_keys=[], relationships={<NodeRelationship.SOURCE: '1'>: RelatedNodeInfo(node_id='52659577', node_type=<ObjectType.DOCUMENT: '4'>, metadata={}, hash='278ef48d2e8c97c6923e9e5082f71d14dfe7e7e56957ddd1ce94127d61a62b0c'), <NodeRelationship.NEXT: '3'>: RelatedNodeInfo(node_id='86df4396-0000-4daa-ac87-57826bf4cfc3', node_type=<ObjectType.TEXT: '1'>, metadata={}, hash='edcd17d4da5f6a77b87827bb519d34d107c6dd70473710c726a21f23193341f1')}, text='Dune (titled onscreen as Dune: Part One) is a 2021 American epic science fiction film directed and co-produced by Denis Villeneuve, who co-wrote the screenplay with Jon Spaihts and Eric Roth. It is the first of a two-part adaptation of the 1965 novel of the same name by Frank Herbert. Set in the distant future, the film follows Paul Atreides as his family, the noble House Atreides, is thrust into a war for the deadly and inhospitable desert planet Arrakis. The ensemble cast includes Timothée Chalamet, Rebecca Ferguson, Oscar Isaac, Josh Brolin, Stellan Skarsgård, Dave Bautista, Stephen McKinley Henderson, Zendaya, Chang Chen, Sharon Duncan-Brewster, Charlotte Rampling, Jason Momoa, and Javier Bardem.\\nThe film is the third adaptation of Dune, following David Lynch\\'s 1984 film and John Harrison\\'s 2000 television miniseries. After an unsuccessful attempt by Paramount Pictures to produce a new adaptation, Legendary Pictures acquired the Dune film and television rights in 2016, with Villeneuve signing on as director in February 2017. Production contracts were secured only for the first film, relying on its success before a sequel would be produced. Principal photography took place from March to July 2019 at locations including Budapest, Jordan, Norway, and Abu Dhabi.\\nDune was scheduled for a late 2020 release but was delayed due to the COVID-19 pandemic. The film premiered at the 78th Venice International Film Festival on September 3, 2021, before its international release on September 15, 2021; it was then released in United States theaters and streaming on HBO Max on October 22, 2021. Dune was a box office success, grossing $435 million on a $165 million budget, making it the ninth-highest-grossing film of 2021. It was well received by critics and audiences with praise for Villeneuve\\'s direction, screenplay, production values, Hans Zimmer\\'s musical score, cinematography, and managing to retain core elements from the source material. The film won six awards at the 94th Academy Awards and was nominated in four other categories, including Best Picture, in addition to receiving numerous other accolades. The continuation, Dune: Part Two, was released in March 2024.\\n\\n\\n== Plot ==\\nIn the distant future, Duke Leto Atreides, ruler of the planet Caladan, is assigned by the Padishah Emperor Shaddam IV to replace Baron Vladimir Harkonnen as the fiefholder of Arrakis, a harsh desert planet and sole source of \"spice\", a valuable psychotropic substance that imparts heightened vitality and awareness. Spice is also key to interstellar travel, giving Spacing Guild Navigators the ability to guide starships to traverse space instantaneously and safely. Shaddam, fearful of Leto\\'s rising power, plots for House Harkonnen to retake Arrakis, secretly aided by his Sardaukar troops, and destroy House Atreides. Leto is suspicious of the Emperor but weighs the risks against the power of controlling Arrakis and making an alliance with its mysterious natives, the Fremen.\\nLeto\\'s concubine, Lady Jessica, is an acolyte of the Bene Gesserit — an exclusive sisterhood whose members possess advanced physical and mental abilities. As part of their centuries-long breeding program, they instructed her to bear a daughter whose son would become the Kwisatz Haderach — a Bene Gesserit and messianic superbeing with the clairvoyance necessary to guide humanity to a better future. Jessica disobeyed and bore a son, Paul, who is trained by Leto\\'s aides, Duncan Idaho, Gurney Halleck, the Suk doctor Wellington Yueh, and the Mentat Thufir Hawat; she teaches him Bene Gesserit disciplines. Paul confides in Jessica and Duncan about his troubling visions of the future. The Reverend Mother and Imperial Truthsayer Gaius Helen Mohiam visits Caladan and subjects him to a death-alternative gom jabbar test to assess his humanity and impulse control, which he passes. At a secret meeting on Giedi Prime, Mohiam insists Baron Harkonnen spare Paul and Jessica in his coup, to which he duplicitously agrees.\\nHouse Atreides arrives at Arrakeen, the fortress stronghold on Arrakis. Duncan\\'s advance party has made contact with the Fremen. The natives revere Paul and Jessica, which she explains is due to the Bene Gesserit sowing beliefs on Arrakis centuries earlier. Leto negotiates with Fremen chieftain Stilgar and meets the Imperial Judge of the Change, Dr. Kynes, a planetologist who lives among the Fremen. Kynes briefs them on the dangers of spice harvesting,', start_char_idx=0, end_char_idx=4465, text_template='{metadata_str}\\n\\n{content}', metadata_template='{key}: {value}', metadata_seperator='\\n'),\n",
              " TextNode(id_='86df4396-0000-4daa-ac87-57826bf4cfc3', embedding=None, metadata={'title': 'Dune: Part Two'}, excluded_embed_metadata_keys=[], excluded_llm_metadata_keys=[], relationships={<NodeRelationship.SOURCE: '1'>: RelatedNodeInfo(node_id='52659577', node_type=<ObjectType.DOCUMENT: '4'>, metadata={}, hash='278ef48d2e8c97c6923e9e5082f71d14dfe7e7e56957ddd1ce94127d61a62b0c'), <NodeRelationship.PREVIOUS: '2'>: RelatedNodeInfo(node_id='d3dd0115-f695-44f3-805b-10abf9b01264', node_type=<ObjectType.TEXT: '1'>, metadata={}, hash='d3f3b1192ee605ed660eb34681b62ab2df3e75c224acf9a7a919c70df2d2a0c4'), <NodeRelationship.NEXT: '3'>: RelatedNodeInfo(node_id='2193f46a-0429-4e23-b249-189279f213ad', node_type=<ObjectType.TEXT: '1'>, metadata={}, hash='a428e608f3c89fac8e80a6cafa1ba84d57b70b927c210a249384342b76ec2f41')}, text='who lives among the Fremen. Kynes briefs them on the dangers of spice harvesting, and the giant sandworms which travel under the desert and make the use of protective Holtzman shields unwise. During a flight, they rescue a stranded spice-harvesting crew from a sandworm, and Paul\\'s exposure to the spice triggers intense premonitions.\\nAn attempt to assassinate Paul with a hunter-seeker fails. Yueh betrays the Atreides and disables Arrakeen\\'s shields, allowing the Harkonnens and Sardaukar to invade. He incapacitates Leto, planning to exchange him for his wife, who is the Baron\\'s prisoner. Yueh replaces one of Leto\\'s teeth with a poison gas capsule with which the Duke can assassinate the Baron. After the Baron double-crosses and murders Yueh, Leto releases the gas, killing himself and the Baron\\'s Mentat, Piter De Vries, but the Baron survives. Though the Baron has arranged to have Paul and Jessica dropped deep in the desert to die, a compassionate Yueh has left them with a fremkit with survival supplies. Jessica uses a Bene Gesserit technique called \"the Voice\" to overpower and kill their captors. Overnighting in the desert, Paul—surrounded by spice—has visions of a bloody holy war fought across the universe in his name.\\nAfter conquering Arrakis, Baron Harkonnen appoints his nephew Rabban to oversee the planet and orders him to restart spice production to recoup the invasion\\'s cost. Meanwhile, Duncan and Kynes find Jessica and Paul, who discloses his plan to marry one of Emperor Shaddam\\'s daughters to avert a potential civil war arising from the Emperor\\'s betrayal. However, they are discovered by Sardaukar soldiers armed with a lasgun. Duncan sacrifices himself, enabling Paul and Jessica\\'s escape. Kynes also tries to escape but is caught and mortally wounded by the Sardaukar. She lures a sandworm to her location to devour herself and the Sardaukar. Deep in the desert, Paul and Jessica encounter Stilgar\\'s Fremen tribe, including Chani, the young woman from Paul\\'s visions. Opposed to Stilgar\\'s lenience towards them, Fremen warrior Jamis challenges Paul to a ritual duel to the death, which Paul wins. Despite Jessica\\'s wishes, Paul joins the Fremen, determined to fulfill his father\\'s goal of allying with them to bring Arrakis peace.\\n\\n\\n== Cast ==\\nTimothée Chalamet as Paul Atreides, ducal heir of House Atreides\\nRebecca Ferguson as Lady Jessica, Paul\\'s Bene Gesserit mother and consort to Leto\\nOscar Isaac as Duke Leto Atreides, Paul\\'s father and the leader of House Atreides\\nJosh Brolin as Gurney Halleck, weapons master of House Atreides and one of Paul\\'s mentors\\nStellan Skarsgård as Baron Vladimir Harkonnen, leader of House Harkonnen, enemy to House Atreides, and former steward of Arrakis\\nDave Bautista as Glossu Rabban, nephew of Baron Harkonnen\\nSharon Duncan-Brewster as Dr. Liet Kynes, Imperial ecologist and Judge of the Change on Arrakis\\nStephen McKinley Henderson as Thufir Hawat, the Mentat of House Atreides\\nZendaya as Chani, a mysterious young Fremen woman who appears in Paul\\'s visions\\nChang Chen as Dr. Wellington Yueh, a Suk doctor in the employ of House Atreides\\nCharlotte Rampling as Reverend Mother Mohiam, the Emperor\\'s Bene Gesserit Truthsayer\\nJason Momoa as Duncan Idaho, the swordmaster of House Atreides and one of Paul\\'s mentors\\nJavier Bardem as Stilgar, the leader of the Fremen tribe at Sietch Tabr\\nDavid Dastmalchian as Piter De Vries, the Mentat of House Harkonnen\\nBabs Olusanmokun as Jamis, a Fremen from Sietch Tabr\\nGolda Rosheuvel as Shadout Mapes, a Fremen working as a housekeeper for House Atreides\\nRoger Yuan as Lieutenant Lanville, Gurney Halleck\\'s second-in-commandAdditionally, Benjamin Clementine portrays the Herald of the Change, the head of an Imperial delegation to Caladan. Marianne Faithfull, Jean Gilpin, and Ellen Dubin voice the ancestral Bene Gesserit whose voices are heard by Paul in his visions. Joe Walker, the film\\'s editor, provides the narration for Paul\\'s filmbook guides for Arrakis.\\n\\n\\n== Production ==\\n\\n\\n=== Background ===\\n\\nFollowing the publication of Frank Herbert\\'s novel Dune in 1965, it was considered as having potential for a possible film adaptation. Since 1971, various producers have held film adaptation rights for the novel. Attempts', start_char_idx=4384, end_char_idx=8622, text_template='{metadata_str}\\n\\n{content}', metadata_template='{key}: {value}', metadata_seperator='\\n'),\n",
              " TextNode(id_='2193f46a-0429-4e23-b249-189279f213ad', embedding=None, metadata={'title': 'Dune: Part Two'}, excluded_embed_metadata_keys=[], excluded_llm_metadata_keys=[], relationships={<NodeRelationship.SOURCE: '1'>: RelatedNodeInfo(node_id='52659577', node_type=<ObjectType.DOCUMENT: '4'>, metadata={}, hash='278ef48d2e8c97c6923e9e5082f71d14dfe7e7e56957ddd1ce94127d61a62b0c'), <NodeRelationship.PREVIOUS: '2'>: RelatedNodeInfo(node_id='86df4396-0000-4daa-ac87-57826bf4cfc3', node_type=<ObjectType.TEXT: '1'>, metadata={}, hash='edcd17d4da5f6a77b87827bb519d34d107c6dd70473710c726a21f23193341f1'), <NodeRelationship.NEXT: '3'>: RelatedNodeInfo(node_id='0e507079-24a8-4e9f-9449-d8fc227af427', node_type=<ObjectType.TEXT: '1'>, metadata={}, hash='e9d327505dc986d7363a75bc95d1f4d44bb8642a56dd7adf7b6da1529dd1f278')}, text='film adaptation. Since 1971, various producers have held film adaptation rights for the novel. Attempts to make an adaptation based on the book were considered to be \"unfilmable\" due to its breadth of content. The book\\'s status among fans meant that deviations without strong justification could potentially harm the film\\'s reputation.Alejandro Jodorowsky acquired the rights in the 1970s to make a fourteen-hour adaptation of the book, but the project ultimately failed to secure sufficient funds. This development effort became the subject of the documentary film Jodorowsky\\'s Dune (2013). David Lynch\\'s Dune, produced by Raffaella De Laurentiis in 1984, was intended as a three-hour film but was cut to 137 minutes; it was poorly received and Lynch himself ended up disowning it. In 1996, producer Richard P. Rubinstein acquired the rights to the novel. Frank Herbert\\'s Dune, a live-action miniseries produced by Rubinstein and directed by John Harrison, aired on the Sci Fi Channel in 2000; it was a ratings hit and was generally better received than Lynch\\'s film. Some reviewers criticized the miniseries for lacking the spectacle afforded to a feature film production, as well as for staying too faithful to the book and being bogged down by exposition. Prospects to make a successful adaptation of Dune improved after the critical and commercial success of the film series adaptations of The Lord of the Rings and Harry Potter, both of which maintained most of the works\\' key characters and plots while managing the limited running time. In 2008, Paramount Pictures hired Peter Berg to direct an adaptation. Berg left the project in October 2009, with director Pierre Morel being hired in January 2010. Paramount later cancelled the project in March 2011, as they could not come to key agreements, with their rights reverting to Rubinstein.\\n\\n\\n=== Development ===\\nIn 2011, Mary Parent, vice chair of worldwide production for Legendary Pictures, and her producer partner Cale Boyter, acquired adaptation rights for Dune. Legendary obtained film and TV rights for Dune in November 2016. Canadian filmmaker Denis Villeneuve expressed interest in the project in September 2016, saying that \"a longstanding dream of mine is to adapt Dune, but it\\'s a long process to get the rights, and I don\\'t think I will succeed\". By December, Villeneuve was in talks with the studio to direct the film. His enthusiasm to direct a Dune film earned Parent\\'s respect, with Parent hiring Villeneuve after hearing him describe his vision for the film. He chose to complete Arrival (2016) and Blade Runner 2049 (2017) first, as he wanted to spend more time to develop Dune and co-write it himself, employing his past experience directing science fiction films during development. Villeneuve signed on to direct the film by January 2017, approximately one week after earning a nomination Academy Award for Best Director for Arrival. By that February, Villeneuve was officially confirmed as the director.Some of Villeneuve\\'s previous collaborators on Arrival and Blade Runner 2049 returned for Dune, including film editor Joe Walker, production designer Patrice Vermette, visual effects supervisor Paul Lambert, sound designer and editor Theo Green, sound editor Mark Mangini, and special effects supervisor Gerd Nefzer. Other previous collaborators were slated to work on Dune but dropped out before production began, including visual effects supervisor John Nelson and cinematographer Roger Deakins, who was replaced in December 2018 with Greig Fraser. Dune was produced by Villeneuve, Parent, and Cale Boyter, with Tanya Lapointe, Brian Herbert, Byron Merritt, Kim Herbert, Thomas Tull, Jon Spaihts, Richard P. Rubinstein, John Harrison, and Herbert W. Gain serving as executive producers and Kevin J. Anderson as creative consultant. Game of Thrones language creator David J. Peterson was confirmed as a constructed language developer for the film in April 2019.\\n\\n\\n=== Writing ===\\nIn March 2018, Villeneuve stated that his goal was to adapt the novel into a two-part film series. He secured a two-movie deal with Warner Bros. Pictures, in the same style as the two-part adaptation of Stephen King\\'s It in 2017 and in 2019. He chose to make two films as he felt that the novel was too large and complex for one. Subsequent dealings secured the production of the first film and new production deals were made to start production for the second. Eric Roth was hired to co-write the screenplay in April,  with Legendary CEO Joshua Grode affirming that the studio planned on making a sequel. Roth, who had read the book as a child, had a neutral opinion of it, which allowed him to have an \"objective view of it\". He wrote a 50-page treatment for the film and focused on appealing to groups of', start_char_idx=8519, end_char_idx=13291, text_template='{metadata_str}\\n\\n{content}', metadata_template='{key}: {value}', metadata_seperator='\\n'),\n",
              " TextNode(id_='0e507079-24a8-4e9f-9449-d8fc227af427', embedding=None, metadata={'title': 'Dune: Part Two'}, excluded_embed_metadata_keys=[], excluded_llm_metadata_keys=[], relationships={<NodeRelationship.SOURCE: '1'>: RelatedNodeInfo(node_id='52659577', node_type=<ObjectType.DOCUMENT: '4'>, metadata={}, hash='278ef48d2e8c97c6923e9e5082f71d14dfe7e7e56957ddd1ce94127d61a62b0c'), <NodeRelationship.PREVIOUS: '2'>: RelatedNodeInfo(node_id='2193f46a-0429-4e23-b249-189279f213ad', node_type=<ObjectType.TEXT: '1'>, metadata={}, hash='a428e608f3c89fac8e80a6cafa1ba84d57b70b927c210a249384342b76ec2f41'), <NodeRelationship.NEXT: '3'>: RelatedNodeInfo(node_id='e2fce836-c29e-4b29-957c-23d1267a0e77', node_type=<ObjectType.TEXT: '1'>, metadata={}, hash='b0120c414ec74d78126c316fddf5c67c8d6de746c5da54d6b774b20ac7c1d341')}, text='of it\". He wrote a 50-page treatment for the film and focused on appealing to groups of people who enjoyed the book, did not remember nor care for the book, and those who were not familiar with it at all. Villeneuve completed a first draft of the script by May 2018, Producer Brian Herbert stated that the fourth draft of the screenplay, submitted in July, would cover the first half of the events from the novel, while Jon Spaihts was later hired as co-writer alongside Roth and Villeneuve in September. Though the book features many elements inspired from Arab and Islamic culture, Spaihts stated the team minimized incorporating them as he felt Arab culture became integrated into the world, resulting in the need to \"invent more and borrow less\" due to potentially overemphasizing them. Eventually, Roth worked on the film again after completing his work on Killers of the Flower Moon (2023), providing feedback after a screening of the film and aiding in rewrites prior to reshoots.When writing his script, Villeneuve chose not to take inspiration from Lynch\\'s Dune, wanting instead to directly refer to the book despite affirming his respect for Lynch and the film. He described his reaction to the film as being \"half-satisfied\", and felt he would make the film with a \"different sensibility\". Similarly, he chose not to incorporate concepts Jodorowsky envisioned for his Dune film, as he felt it would be \"very presumptuous and arrogant\". He was not intimidated by previous film adaptations as he felt his love for Dune allowed him to focus on his own vision. He compared his experience of making the film to archaeology, describing the process as \"going back in time and finding those images mixed with emotions, and bringing them back to life\".In adapting the book for a contemporary audience, Villeneuve considered his screenplay \"a coming-of-age story, but also a call for action for the youth\" and noted the book\\'s social commentary regarding capitalism and the exploitation of natural resources such as oil. In doing so, Villeneuve wanted to recreate the experience he had felt when he initially read the book as a teen. He adjusted and modified many parts of the novel for the film, and wanted to keep \"the atmosphere and poetry ... intact\". This included eliminating internal monologues and epigraphs used in the book and simplifying the \"pseudo-antiquated\" dialogue. Instead, he emphasized Paul and Jessica\\'s relationship as the main focus of the story, and gave them a secret hand gesture language they could use to communicate silently to each other. The film also minimizes the political aspects of the Dune world in order to retain the book\\'s scale and exploration of power dynamics while also focus on Paul\\'s growth. The inclusion of the informative holographic filmbook videos for Paul was adapted from the book, with Villeneuve wanting it to convey Paul\\'s \"appetite for learning\" and his desire to learn about the Arrakis and Fremen culture.Some characters were given less prominence, such as Baron Harkonnen, members of his court, and the Mentats Thufir Hawat and Piter De Vries, but established enough so that they can be used in the future. Villeneuve sought to depict the Baron as a complex antagonist rather than as a caricature, feeling the novel presented him as being the latter, and took inspiration from Colonel Kurtz. Another major change was altering some of the arcs of the female characters in the book to give them more respect and prominence, as Villeneuve felt femininity was a crucial theme in the book. Ferguson stated that while Villeneuve respected Herbert\\'s characterization in the book, Villeneuve\\'s modifications had helped improve the quality of female characters by expanding the role of Lady Jessica as an expanded role as a soldier and member of the Bene Gesserit. As such, the studio labeled this role a \"warrior priestess\", in contrast to the joking label of \"space nun\" that Villeneuve felt was implied by the book.\\n\\n\\n=== Casting ===\\n\\nVilleneuve began the casting process by first determining who would portray Paul Atreides. He approached actors on an individual basis and felt the final cast was close to his \"dream list\". For Paul, Villeneuve desired an actor who had \"an old soul in the body of a teenager\".  He identified Timothée Chalamet as the ideal choice for the role, later admitting that he had no alternate choices in mind. Chalamet, who previously auditioned for a role in Villeneuve\\'s Prisoners (2013), also desired to collaborate with Villeneuve and appear in Dune. He travelled to the Cannes Film Festival to discuss the role with Villeneuve. Chalamet entered final negotiations to play the role of Paul in July 2018. Rebecca Ferguson entered negotiations that September to play the role of Paul\\'s mother, Lady Jessica, with Chalamet already confirmed for the role of Paul. Ferguson was', start_char_idx=13204, end_char_idx=18062, text_template='{metadata_str}\\n\\n{content}', metadata_template='{key}: {value}', metadata_seperator='\\n'),\n",
              " TextNode(id_='e2fce836-c29e-4b29-957c-23d1267a0e77', embedding=None, metadata={'title': 'Dune: Part Two'}, excluded_embed_metadata_keys=[], excluded_llm_metadata_keys=[], relationships={<NodeRelationship.SOURCE: '1'>: RelatedNodeInfo(node_id='52659577', node_type=<ObjectType.DOCUMENT: '4'>, metadata={}, hash='278ef48d2e8c97c6923e9e5082f71d14dfe7e7e56957ddd1ce94127d61a62b0c'), <NodeRelationship.PREVIOUS: '2'>: RelatedNodeInfo(node_id='0e507079-24a8-4e9f-9449-d8fc227af427', node_type=<ObjectType.TEXT: '1'>, metadata={}, hash='e9d327505dc986d7363a75bc95d1f4d44bb8642a56dd7adf7b6da1529dd1f278'), <NodeRelationship.NEXT: '3'>: RelatedNodeInfo(node_id='3324ef86-4513-4a80-b652-96b22df6078a', node_type=<ObjectType.TEXT: '1'>, metadata={}, hash='b9b0af602bedc4b28f8aede3fe7fb47c3d72d295fbe2301e7a263fd47c83eeed')}, text='mother, Lady Jessica, with Chalamet already confirmed for the role of Paul. Ferguson was initially dismissive as the role, as she felt it was too similar to her Mission: Impossible role as Ilsa Faust.  Ferguson did not want to be typecast as a \"strong female character\". However, she was convinced after hearing Villeneuve\\'s ideas and reading the book, saying she enjoyed the \"simplicity of wanting to save something you have created and all of these shades\". She had been cast by January 2019.Casting director Francine Maisler had compiled over 30–50 audition tapes from actors for Villeneuve to decide from when casting secondary roles. Dave Bautista was offered the role of Glossu Rabban following a phone call from Villeneuve. He was an avid fan of Villeneuve and wanted to contact him, but was surprised when Villeneuve contacted him first and proud of being offered the role. Villeneuve wanted Stellan Skarsgård to portray Baron Vladimir Harkonnen as he had found Skarsgård intimidating, and personally contacted Charlotte Rampling in order to portray Gaius Helen Mohiam, who accepted as she enjoyed Villeneuve\\'s work. Oscar Isaac contacted Villeneuve about starring in the film once he heard it was in development. Villeneuve cast him as Duke Leto, with Isaac commenting the role suited him physically. Zendaya auditioned for the role of Chani alongside five other actresses. She was chosen as she was considered to have the best performance with Chalamet. Bautista, Skarsgård, Rampling, Isaac, and Zendaya all joined the cast in January 2019.In the next month, Javier Bardem, Josh Brolin, Jason Momoa, and David Dastmalchian were all cast as Stilgar, Gurney Halleck, Duncan Idaho, and Piter de Vries, respectively. Villeneuve directly called Bardem and offered him the role, who was shocked as he wanted to portray Stilgar, comparing it to his personal love for Aragorn in The Lord of the Rings. Meanwhile, Brolin amusingly commented that he pretended to read the script prior to accepting the role, while Momoa received his casting call when he was snowboarding down a mountain. He later contacted Villeneuve on a Skype call to confirm his involvement. Dastmalchian\\'s casting was similar to Brolin and Momoa\\'s, as he received a call while he was in his Los Angeles home, and accepted the role without reading the script due to his confidence in Villeneuve. Stephen McKinley Henderson joined in March, with Chang Chen entering negotiations. Maisler chose Henderson after admiring his work in New York theaters, and curated a list of the \"most talented\" Chinese actors for the role of Dr. Yueh. Despite initial difficulties contacting Chen, they eventually contacted his manager in China. Afterwards, Chen accepted his role as Dr. Yueh. The decision to cast Benjamin Clementine as the Herald of the Change occurred after Maisler enjoyed his performance in the Tiny Desk Concerts.In July 2019, it was reported that the film would \"gender swap\" the character Liet-Kynes by casting Sharon Duncan-Brewster for the role. Duncan-Brewster auditioned for the role in London through Jina Jay, a casting director working with Maisler at the time, saying that she \"exudes an intelligence and a power and an inner strength\". When Maisler presented a shortlist for potential cast members, Villeneuve selected Duncan-Brewster. Her casting was confirmed in April 2020. The idea to change Kynes\\' gender was suggested by Jon Spaihts, which Villeneuve promptly accepted. According to Duncan-Brewster, Villeneuve opted for the change as he felt it was not necessary to adhere to all of the elements in the book in order to remain faithful to the character\\'s nature.\\n\\n\\n=== Design ===\\n\\n\\n==== Set and props ====\\nThe set design was done by production designer Patrice Vermette. Vermette based the set design for Dune by the need \"to ground the story into realistic settings to help the audience believe in the extraordinary elements\". He sought to make the sets as realistic and immersive as possible, using minimal set extensions and no greenscreens. Prior to the creation of any sets or visual effects, Villeneuve and a group of specific people, worked together to define the visual language for the film.Vermette created a \"visual bible\" to guide the development of set design and keep it consistent with the film\\'s visual effects design, intending to help \"extrapolate the world\". He also re-read the novel, as he felt that \"the book gives a lot of clues or cues that will help you navigate it to design things, but it\\'s quite nonspecific\", adding that he wanted to support Villeneuve\\'s original vision of the novel when he read', start_char_idx=17974, end_char_idx=22590, text_template='{metadata_str}\\n\\n{content}', metadata_template='{key}: {value}', metadata_seperator='\\n'),\n",
              " TextNode(id_='3324ef86-4513-4a80-b652-96b22df6078a', embedding=None, metadata={'title': 'Dune: Part Two'}, excluded_embed_metadata_keys=[], excluded_llm_metadata_keys=[], relationships={<NodeRelationship.SOURCE: '1'>: RelatedNodeInfo(node_id='52659577', node_type=<ObjectType.DOCUMENT: '4'>, metadata={}, hash='278ef48d2e8c97c6923e9e5082f71d14dfe7e7e56957ddd1ce94127d61a62b0c'), <NodeRelationship.PREVIOUS: '2'>: RelatedNodeInfo(node_id='e2fce836-c29e-4b29-957c-23d1267a0e77', node_type=<ObjectType.TEXT: '1'>, metadata={}, hash='b0120c414ec74d78126c316fddf5c67c8d6de746c5da54d6b774b20ac7c1d341'), <NodeRelationship.NEXT: '3'>: RelatedNodeInfo(node_id='79a08e77-4a77-46c0-b96b-f8715f52990b', node_type=<ObjectType.TEXT: '1'>, metadata={}, hash='32fa152d69bf3b24664711a02da1979470c6c60de339a7485fa4dc76abae114a')}, text='adding that he wanted to support Villeneuve\\'s original vision of the novel when he read it as a young teenager, and base the design around Herbert\\'s original novel. The team\\'s early mood boards for the visual language of the film consisted of Mesopotamian ziggurat architecture, Egyptian references, World War II bunkers, Brazilian and Soviet brutalist architecture, minimalist megastructures and dams designed by Superstudio, and imagery of glaciers taking over mountains.The design for the ornithopters was conceived by Villeneuve and storyboard artist Sam Hudecki. Villeneuve wanted the ornithopter be \"muscular\"; he wanted it to resemble a dragonfly and helicopter, but also appear realistic and adhere to basic laws of science. This fit in with his overall perception of the Dune world being retro-futuristic and analog. He also wanted the cockpits to be designed so that the actors could see the landscape. Two functional ornithopter models, 48- and 75-feet long, were created for filming by London propmakers, with operable doors and interior cockpit areas. They weighed over 11 tons and required an Antonov cargo plane to transport them to filming locations in Hungary and Jordan. One ornithopter used in filming had customizable pieces allowing for more space. Cranes were used to make the models fly.Many practical sets were created on the soundstages and backlots of the Origo Film Studios in Budapest, Hungary, serving as interiors for the three planets. When designing Caladan, Vermette sought to give the planet \"a feeling of melancholia\". He wanted Caladan to resemble autumn in Canada, his home country, as he thought that it represented \"the end of a cycle... or the beginning of a new one\". He identified \"dramatic coastal mountain ranges\" and forests containing Norwegian pines as defining features of the planet. Meanwhile, the interior sets of Caladan were inspired by medieval Japanese aesthetics, particularly that of Paul\\'s training room, containing intricate screens and diffused lighting. Props were created by set decorator Richard Roberts, including custom-made furniture, lighting, textiles produced in Denmark, and other items designed to look antique.The original design for the sandworm was deemed \"prehistoric\", inspired by whales with baleen in their mouths. The sandworm\\'s skin texture was based on tree bark and mud flats. Vermette spoke of the challenges involved in creating the set designs used for the sandworms, stating \"It was a creature that commanded respect, and it’s almost seen as a deity in the world of the Fremen. So that’s why the first time you see the depiction of the sand worm on the mural, it’s presented with sun coming out of its mouth\".The design for Arrakeen was influenced by the book\\'s description of Arrakis\\'s climate, with Vermette calling it \"the biggest residency ever built by humankind\" and \"a response as a colonial entity that took over the planet for the exploitation of ... spice\". He designed the city in a \"rock bowl\" shape to protect its infrastructure from sandworms, and built buildings at an angle to protect them from high wind speeds. The walls were thickened to make the interiors cooler. The team was inspired by WWII bunkers, bunkers, Mayan temples, and Brazilian modernism. The history and culture of the Fremen was depicted in various murals throughout the residence, with Vermette comparing it to that of a church after envisioning Fremen artists doing so in order to depict the colonization of Arrakis. One practical set was the environmental lab in which Sardaukar soldiers descend from the air. The circular dome was 20 feet high, with the spokes being created by a special kind of cloth fabric, giving the illusion of shadows and providing proper lighting for the act. Agriculturally controlled sand was placed on the ground as filming took place during Budapest\\'s raining season.\\n\\n\\n==== Costumes ====\\nOver 1000 looks for Arrakis, Caladan, and Giedi Prime were designed by the team for the film. The costume design was done by Jacqueline West and Bob Morgan. Villeneuve wanted the costumes to be \"grounded\" in history while avoiding conventional futuristic views in science fiction films. West performed \"psychological studies\" of characters and historical research to associate their houses with historical \"symbolic analogs\", facilitating her costume design process. She took primary inspiration from the Middle Ages, particularly envisioning what it would look like in the future. She associated the Fremen with the French Resistance and the Sardaukar with the Nazis when designing the costumes. Additionally, she took inspiration from Giotto, Francisco Goya, Caravaggio, and British art historian John Berger, while emulating styles from the fashion of Balenciaga, the Bedouin, and Tuareg people.West associated the Spacing Guild with the Avignon Papacy, connected their persecution of the Templars to that of House Atreides; she noted that the Emperor', start_char_idx=22503, end_char_idx=27449, text_template='{metadata_str}\\n\\n{content}', metadata_template='{key}: {value}', metadata_seperator='\\n'),\n",
              " TextNode(id_='79a08e77-4a77-46c0-b96b-f8715f52990b', embedding=None, metadata={'title': 'Dune: Part Two'}, excluded_embed_metadata_keys=[], excluded_llm_metadata_keys=[], relationships={<NodeRelationship.SOURCE: '1'>: RelatedNodeInfo(node_id='52659577', node_type=<ObjectType.DOCUMENT: '4'>, metadata={}, hash='278ef48d2e8c97c6923e9e5082f71d14dfe7e7e56957ddd1ce94127d61a62b0c'), <NodeRelationship.PREVIOUS: '2'>: RelatedNodeInfo(node_id='3324ef86-4513-4a80-b652-96b22df6078a', node_type=<ObjectType.TEXT: '1'>, metadata={}, hash='b9b0af602bedc4b28f8aede3fe7fb47c3d72d295fbe2301e7a263fd47c83eeed'), <NodeRelationship.NEXT: '3'>: RelatedNodeInfo(node_id='b40e3c57-c8a8-4c7b-a154-0852db3195ff', node_type=<ObjectType.TEXT: '1'>, metadata={}, hash='b5fe968426e04b6a3881da6182c4f108361c9bfca46d7735ef24b77402ba0969')}, text='connected their persecution of the Templars to that of House Atreides; she noted that the Emperor and his allies betrayed House Atreides. Reference pictures consisted of medieval popes and modernized it when designing their costumes. The Bene Gesserit sorceresses\\' costumes were based on tarot cards and chess pieces, while the Harkonnen armor was designed to resemble a bug\\'s shell, using medieval drawings of \"insects, spiders, ants, praying mantises and lizards\" as reference. Meanwhile, the Atreides\\' costumes were based on the Romanovs, describing their costumes as having a \"simplicity ... that was regal\". Lady Jessica\\'s dresses in the first half of the film were inspired by the works of Cristóbal Balenciaga, while the turmeric-toned gown she wears while landing on Arrakis was influenced by Middle Eastern clothing and paintings of women in North Africa.West cited the films Lawrence of Arabia (1962), Doctor Zhivago (1965), and Fahrenheit 451 (1966) as further inspirations for costume diversity. She also researched Roman and Greek mythology, feeling that it the Atreides-Harkonnen feud was similar to a \"real Greek and Roman tragedy\". She dyed the gauze for Fremen cloth in desert colors, inspired by the sand and rocks in Jordanian filming locations. A prototype for the stillsuit was designed by West and Jose Fernandez at Ironhead Studios in Los Angeles. The prototype was then taken to Origo Studios, where a factory was set up to design additional suits within two weeks. He hired European artisans to create concept designs and over 150 individual pieces for the suits. Over 250 stillsuits were used when filming in Jordan. The suits were designed to be flexible and comfortably fit the actor\\'s body, while also remaining accurate to the book. They created \"micro-sandwiches\" of acrylic fibers and porous cottons, which absorbed the moisture and allowed the actors to remain cool inside the suits. Tubing also ran through the micro-sandwiches for increased flexibility. Zippers and buttons were not used as they were deemed \"archaic\".\\n\\n\\n=== Filming ===\\nPrincipal photography began on March 18, 2019, at Origo Film Studios in Budapest, Hungary, with Greig Fraser serving as cinematographer. The film was shot for the IMAX format with an IMAX-certified Arri Alexa LF camera and an IMAX-certified Alexa Mini LF prototype, equipped with Panavision\\'s large-format lenses in the Ultra Vista and H-series lineup. Select scenes had aspect ratios opened up to 1.90:1 on all IMAX screens, and to 1.43:1 on select IMAX screens outfitted with IMAX\\'s dual-laser projection system. The finished footage was transferred to 35mm film stock, then scanned back to 4K, in order to achieve a more film-like look. Filming occurred in Wadi Rum, Jordan, which doubled for Arrakis. The Liwa Oasis in the United Arab Emirates also served as a key backdrop for Arrakis, with filming there occurring across 11 days. Local businesses, freelancers from Twofour54, and crews consisting of over 100 people offered assistance during the shoot. Scenes featuring the rock formations functioning as the Fremens\\' heat shelters were filmed at the Rub\\' al Khali desert. Stadlandet, Norway doubled for the planet Caladan. Filming wrapped on July 26, 2019. Additional filming took place in Budapest by August 2020, which did not alter the film\\'s then-December 2020 release date.Parts of the Arrakeen invasion, such as shots of Gurney, extras, and practical explosions up to approximately five kilometers high, were filmed on backlots in Budapest. Duke Leto\\'s death scene was the final scene filmed by Isaac, in which he decided to film it nude as he felt it was similar to Christ\\'s crucifixion. He also came up with the idea of including the bull\\'s head, identifying it as an \"omen\". Ornithopter interiors were filmed on hilltops outside Budapest, with a 25-foot high and 360° sand-colored ramp circling a large gimbal, allowing Fraser to film with natural sunlight. Supervising stunt coordinator and second unit director Tom Struthers developed unique combat styles for major factions. When working on the action sequence between Idaho and the Sardaukars, he based Idaho\\'s combat style from Greek and Roman warfare techniques, and the Sardaukar\\'s from Russian soldiers in WWII wanting to \"mow down the enemy\".  Chalamet learned the sandwalking technique, designed by choreographer Benjamin Millepied, prior to filming Arrakis scenes in order to convey Paul\\'s natural adeptness at it and \"responsibility to show Jessica in that moment\". Footage of helicopters flying over the UAE were filmed with six high-resolution cameras, being utilized as reference footage for', start_char_idx=27352, end_char_idx=31996, text_template='{metadata_str}\\n\\n{content}', metadata_template='{key}: {value}', metadata_seperator='\\n'),\n",
              " TextNode(id_='b40e3c57-c8a8-4c7b-a154-0852db3195ff', embedding=None, metadata={'title': 'Dune: Part Two'}, excluded_embed_metadata_keys=[], excluded_llm_metadata_keys=[], relationships={<NodeRelationship.SOURCE: '1'>: RelatedNodeInfo(node_id='52659577', node_type=<ObjectType.DOCUMENT: '4'>, metadata={}, hash='278ef48d2e8c97c6923e9e5082f71d14dfe7e7e56957ddd1ce94127d61a62b0c'), <NodeRelationship.PREVIOUS: '2'>: RelatedNodeInfo(node_id='79a08e77-4a77-46c0-b96b-f8715f52990b', node_type=<ObjectType.TEXT: '1'>, metadata={}, hash='32fa152d69bf3b24664711a02da1979470c6c60de339a7485fa4dc76abae114a'), <NodeRelationship.NEXT: '3'>: RelatedNodeInfo(node_id='52ef07fe-5b7b-44d8-a552-dee9d4b45247', node_type=<ObjectType.TEXT: '1'>, metadata={}, hash='bd228306ff1881a1809e91cfca294d1288c3d5b3c7acfcb93d43cc7b347a26db')}, text='of helicopters flying over the UAE were filmed with six high-resolution cameras, being utilized as reference footage for ornithopters.\\n\\n\\n=== Post-production ===\\nDNEG contributed to over 28 scenes in the film, creating 1,200 VFX shots out of the 1,700 total, with vendors including Wylie Co. and Rodeo FX. Many shots used various chroma key processes. Visual effects supervisor Paul Lambert used \"sandscreens\" for filming scenes in Arrakis and Arrakeen; instead of using green-based backgrounds, the visual effects team used sand-colored ones that matched the establishing desert shots intended for backgrounds. The sandscreens were used in capturing scenes of the ornithopter, with the VFX team using the helicopter footage and replacing them with the ornithopter models, facilitating capture of sand displacement. This was also filmed by encapsulating ornithopter models in black boxes with fans blowing dust. The wings were inserted using computer-generated imagery (CGI). Similar processes were used to film scenes in other settings, as it facilitated compositing the foreground and background imagery: Caladan scenes used \"grayscreens\" and those with a \"slight blue tint\" for interior and exterior scenes, respectively, Salusa Secundus scenes used bluescreens. Approximately 18 tons of sand and dust were used on set, with the effect of blowing sand being created by using a V8 engine with a fan on the back of a tractor.The sandworms were created through CGI. The VFX team found a lot of difficulty in deciding how the sandworm would move. The team spent over a year in figuring out the movements of the sandworm, and researched the body movements of various animals, such as worms and snakes. The sand ripples created by the worms were inspired by Jaws (1975). The special-effects supervisor Gerd Nefzer designed a vibrating 8x8 foot steel plate and placed it under the sand. This resulted in the formation of various patterns, used to signify an approaching sandworm. The vibrating areas were also later enhanced to cover a larger area. The team initially considered using rigged explosives to capture the motion of the sandworms breaking the surface in the desert, but rejected the idea as this was impractical to perform in the Middle East. Instead, they used the Houdini software to have sand emulate the motion of water. Villeneuve did not want the associated sound design to appear as a studio production. Sound designers Mark Mangini and Theo Green used a \"fake documentary realism\" approach to capture natural sounds and manipulate them for use in the film, such as recording the sounds of shifting sands in Death Valley using hydrophones.The Montreal and Vancouver facilities of DNEG were used for the Arrakeen invasion sequence. It involved the combination of practical and digital effects. The VFX supervisor of the Montreal team, Brian Connor, created a digital Arrakeen space port, while the Vancouver team was tasked with simulating the explosions. Practical explosions filmed in the Budapest backlots were later enhanced by the VFX team, as the special effects team had rigs of practical light shining through the fog from the practical explosions. This allowed the VFX team to then blend the practical and digital shots together easier. Lambert created the visual effects for the shields by combining past and future frames after experimenting with a clip from Seven Samurai (1954), which resulted in a \"shimmering\" look Villeneuve approved. They also added colors; they used blue for when an object bounces and red for when it penetrates. The scene of Paul\\'s future vision was filmed using motion-capture (mo-cap), and the team replicated the mo-cap to add hundreds of fighters to the scene. Animation supervisor Robyn Luckham helped create the scene as the team did not know much about mo-cap. They also added explosions in the foreground, sandworms in the background, sand displacement throughout the scenes, and used more simulations to render the scene in real-time. To create the desert mouse, Muad\\'Dib, the team created a detailed practical stuffy model, and filmed it in Jordan for the appropriate desert lighting. The animation team used footage of animals idling as reference, and animated the mouse so that it \"only expends effort when absolutely necessary\". The creosote bush hologram in the film was created by projecting different \"slices\" of the light on Chalamet\\'s face during plate photography based on his position on the set using a projector. Wylie then completed the scene by adding the hologram around him. For the hunter-seeker, the team used a stick on set as reference, and later replaced it with the proper models via CGI. Practical rigs were attached to Skarsgård\\'s body to create the illusion of the Baron\\'s levitation. Sometimes, the levitation was done practically with a seesaw rig. However, the suspensor device attached to his back was inserted using CGI.\\n\\n\\n== Music ==\\n\\nHans Zimmer affirmed he would be scoring Dune near the start of', start_char_idx=31876, end_char_idx=36865, text_template='{metadata_str}\\n\\n{content}', metadata_template='{key}: {value}', metadata_seperator='\\n'),\n",
              " TextNode(id_='52ef07fe-5b7b-44d8-a552-dee9d4b45247', embedding=None, metadata={'title': 'Dune: Part Two'}, excluded_embed_metadata_keys=[], excluded_llm_metadata_keys=[], relationships={<NodeRelationship.SOURCE: '1'>: RelatedNodeInfo(node_id='52659577', node_type=<ObjectType.DOCUMENT: '4'>, metadata={}, hash='278ef48d2e8c97c6923e9e5082f71d14dfe7e7e56957ddd1ce94127d61a62b0c'), <NodeRelationship.PREVIOUS: '2'>: RelatedNodeInfo(node_id='b40e3c57-c8a8-4c7b-a154-0852db3195ff', node_type=<ObjectType.TEXT: '1'>, metadata={}, hash='b5fe968426e04b6a3881da6182c4f108361c9bfca46d7735ef24b77402ba0969'), <NodeRelationship.NEXT: '3'>: RelatedNodeInfo(node_id='4670b566-3e5b-4dd0-824e-57c0ef3781f7', node_type=<ObjectType.TEXT: '1'>, metadata={}, hash='b138d6cd22bc59d32e17fef76d31e9c021bfa587cd7ba3689e88db332f7786cd')}, text='CGI.\\n\\n\\n== Music ==\\n\\nHans Zimmer affirmed he would be scoring Dune near the start of the film\\'s production in March 2019. Zimmer previously worked with Villeneuve on Blade Runner 2049 (2017). At the time, Zimmer rejected director Christopher Nolan\\'s request to compose the score for his then-upcoming film Tenet (2020), citing his personal love for the book. Zimmer did not want the soundtrack to sound like his previous works and used instruments atypical of a Western orchestra. He avoided watching Lynch\\'s Dune so as not to be influenced by Toto\\'s music, instead spending a week in a Utah desert to incorporate its sounds into the score. The music was performed using an eclectic set of instruments, including some created specifically for the soundtrack. Performers for the score include guitarist Guthrie Govan and vocalist Loire Cotler. Additional music was composed by Steve Mazzaro and David Fleming, both of whom worked in collaboration with Zimmer to keep his pieces on theme. The soundtrack pieces include bagpipes for the House Atreides theme, which was suggested as Villeneuve\\'s idea of something \"ancient and organic\". Zimmer found 30 bagpipe players around Edinburgh during the COVID-19 pandemic and recorded them playing in a church.For the first Dune trailer, Zimmer supervised a 32-person choir via FaceTime (necessitated by pandemic restrictions) for the recording of a cover of Pink Floyd\\'s song \"Eclipse\". Choir members gathered in groups of four over eight separate sessions in Santa Monica at Zimmer\\'s Remote Control studio while Zimmer conducted from home.Three soundtrack albums were released for the film by WaterTower Music, including The Dune Sketchbook (Music from the Soundtrack), Dune (Original Motion Picture Soundtrack), and The Art and Soul of Dune on September 3, September 17, and October 22, 2021, respectively. Villeneuve said Zimmer spent \"months and months creating new instruments, defining, creating, and seeking new sounds, pushing the envelope\" and praised his work on the film. Two singles were released on July 22, titled \"Paul\\'s Dream\" and \"Ripples in the Sand\". The film\\'s score was nominated for the Best Score Soundtrack for Visual Media at the 2022 Grammy Awards.\\n\\n\\n== Marketing ==\\nVanity Fair published a two-part extensive first-look report on Dune by April 14, 2020. Empire\\'s October 2020 issue\\'s cover story included an in-depth look at the film and interviews with cast and crew, providing additional first looks ahead of the film\\'s trailer release. A teaser trailer was released on September 9, 2020, featuring a remix of the Pink Floyd song \"Eclipse\" (1973) combined with Zimmer\\'s score. Zack Sharf of IndieWire gave the trailer a positive review, and wrote \"It\\'s full of eye-popping set design\", in addition to stating, \"The two [Denis Villeneuve and Greig Fraser] have brought a tangibility to Frank Herbert\\'s world that should make Dune a visceral experience for moviegoers.\" Miles Surrey from The Ringer also gave the trailer a positive review, and felt the trailer \"undoubtedly looks promising,\" and noted that, though the source material has been \"notoriously unadaptable,\" he felt \"the curse could be broken,\" due to the cast and Villeneuve\\'s direction. Similarly, Deadline Hollywood\\'s Dino-Ray Ramos also praised the trailer for its scale, writing that it contained \"sci-fi prestige and the epic scale that includes mind-boggling action, elegant cinematography and fantastical nuances that still leave room for grounded and very human storytelling\".The first ten minutes of the film were screened in select IMAX theaters worldwide on July 21 and 22, 2021, in an event that also included a behind-the-scenes look at the film and the debut of the film\\'s theatrical trailer, on July 22. Angela Wattercutter of Wired stated that the trailer \"is begging you to see it in theaters\". Jennifer Yuma from Variety praised the cast and visuals, and praised its scope, calling the trailer \"epic\". Similarly, Aaron Couch from The Hollywood Reporter also praised the cast and thought the film was an \"ambitious sci-fi adaptation\". Anthony Breznican from Vanity Fair also gave the trailer a positive review and stated, \"It will seem more mysterious to those unfamiliar with the story, but like Chani does herself in those dream missives to Paul, it hints at big, impressive things to come.\" Vulture\\'s Zoe Haylock was also impressed by the trailer, and advocated watching the film in theaters, praising the visuals as \"transcendental natural settings\". Writing for Entertainment Weekly, Christian Holub felt the trailer \"sets the stage cleanly\".On February 26, 2019, Funcom entered into an exclusive partnership with Legendary Entertainment to develop games related to the upcoming Dune films. \\nAn artbook, The Art and Soul of', start_char_idx=36782, end_char_idx=41557, text_template='{metadata_str}\\n\\n{content}', metadata_template='{key}: {value}', metadata_seperator='\\n'),\n",
              " TextNode(id_='4670b566-3e5b-4dd0-824e-57c0ef3781f7', embedding=None, metadata={'title': 'Dune: Part Two'}, excluded_embed_metadata_keys=[], excluded_llm_metadata_keys=[], relationships={<NodeRelationship.SOURCE: '1'>: RelatedNodeInfo(node_id='52659577', node_type=<ObjectType.DOCUMENT: '4'>, metadata={}, hash='278ef48d2e8c97c6923e9e5082f71d14dfe7e7e56957ddd1ce94127d61a62b0c'), <NodeRelationship.PREVIOUS: '2'>: RelatedNodeInfo(node_id='52ef07fe-5b7b-44d8-a552-dee9d4b45247', node_type=<ObjectType.TEXT: '1'>, metadata={}, hash='bd228306ff1881a1809e91cfca294d1288c3d5b3c7acfcb93d43cc7b347a26db'), <NodeRelationship.NEXT: '3'>: RelatedNodeInfo(node_id='c5c13c8b-250d-4d2b-b557-f7a88c7a94e7', node_type=<ObjectType.TEXT: '1'>, metadata={}, hash='b19e100b7d0d2fff6d13169205819c5efa4b8a644b8932645960332eb7a090d8')}, text='develop games related to the upcoming Dune films. \\nAn artbook, The Art and Soul of Dune, was released alongside the film on October 22, 2021. The book was written by the executive producer Tanya Lapointe, and it included a soundtrack album of the same name composed by Zimmer. The book was available in both a standard and deluxe edition. In September 2020, McFarlane Toys started a line of 7-inch figures modeled after characters from the film. A 12-inch figure of Baron Harkonnen was introduced at the same time. The action figures were released in December 2020.Legendary Comics announced Dune: The Official Movie Graphic Novel via Kickstarter and published the comic in December 2022 by writer Lilah Sturges and art by Drew Johnson.\\n\\n\\n== Release ==\\n\\n\\n=== Theatrical and streaming ===\\nDune was originally scheduled to be released on November 20, 2020, but was pushed back to December 18, 2020. The film was then delayed by the COVID-19 pandemic, this time to October 1, 2021, taking over the release date slot of The Batman, where it was theatrically released in 3D. In late June 2021, Warner Bros. delayed the film\\'s American release date again by three weeks to October 22, 2021, to avoid competition with No Time to Die. Over a month before the domestic North American release date, the film had a staggered theatrical release schedule in most international markets that do not have HBO Max, beginning on September 15, including France, Italy, Sweden and Switzerland. A week ahead of the United States release, Warner Bros. announced that the film\\'s availability on HBO Max would start on the evening of October 21, 2021, correlating with typical early Thursday theatrical showings for films released on Fridays (although the studio had not been doing early Thursday previews for most of the rest of their hybrid theatrical/HBO Max releases. The other exception being The Suicide Squad, which had the same strategy for its early Thursday previews/HBO Max release).Like all 2021 Warner Bros. films, Dune was streamed simultaneously on HBO Max for a period of one month. The film was then removed from the service and followed the normal home media release schedule, similar to the process Warner Bros. used for Wonder Woman 1984 (2020). Many production companies and directors expressed dissatisfaction with the decision, including Villeneuve and Legendary Pictures. In a column published in Variety, Villeneuve expressed concerns about the film\\'s financial success and piracy.Dune had its world premiere at the 78th Venice International Film Festival on September 3, 2021. It also screened at the Toronto International Film Festival with an IMAX premiere screening at the Ontario Place Cinesphere on September 11, 2021. Jason Momoa tested positive for COVID-19 after attending the film\\'s London premiere on October 15, 2021. On October 17, the film was leaked online ahead of its planned US and HBO Max release. The film returned for a theatrical run at IMAX theaters from December 3, 2021. From January 24, 2024, screenings included an exclusive preview of Dune: Part Two ahead of its March 2024 release.\\n\\n\\n=== Home media ===\\nThe film was released digitally on December 3, 2021, while Blu-ray, DVD and Ultra HD Blu-ray versions of the film were released on January 11, 2022, by Warner Bros. Home Entertainment. After its release on home media, Dune ranked first on the \"NPD VideoScan First Alert\" chart for combined Blu-ray and DVD sales as well as the dedicated Blu-ray sales chart. According to The Numbers, it sold a combined 215,375 Blu-ray and DVD units in the first week for $3.6 million. It retained the top position on both the charts of the NPD Group for the following two weeks before being displaced by Ghostbusters: Afterlife. In addition, it was the most rented title from Redbox kiosks for three weeks as well. It was the highest-selling movie for the month of January according to the \"NPD VideoScan First Alert\" chart.\\n\\n\\n== Reception ==\\n\\n\\n=== Box office ===\\nDune grossed $110 million in the United States and Canada, and $324.8 million in other countries, for a worldwide total of $434.8 million. Deadline Hollywood reported that a total box office gross of $300 million, the combined cost of production and marketing, \"will make many happy from an image-standpoint, even if breakeven is far north of that\".In the US and Canada, the film made $41 million in its opening weekend from 4,125 theaters, surpassing its projected opening weekend estimates of $30–35 million and besting the debut of Godzilla vs. Kong ($31.6 million) for the highest opening', start_char_idx=41475, end_char_idx=46048, text_template='{metadata_str}\\n\\n{content}', metadata_template='{key}: {value}', metadata_seperator='\\n'),\n",
              " TextNode(id_='c5c13c8b-250d-4d2b-b557-f7a88c7a94e7', embedding=None, metadata={'title': 'Dune: Part Two'}, excluded_embed_metadata_keys=[], excluded_llm_metadata_keys=[], relationships={<NodeRelationship.SOURCE: '1'>: RelatedNodeInfo(node_id='52659577', node_type=<ObjectType.DOCUMENT: '4'>, metadata={}, hash='278ef48d2e8c97c6923e9e5082f71d14dfe7e7e56957ddd1ce94127d61a62b0c'), <NodeRelationship.PREVIOUS: '2'>: RelatedNodeInfo(node_id='4670b566-3e5b-4dd0-824e-57c0ef3781f7', node_type=<ObjectType.TEXT: '1'>, metadata={}, hash='b138d6cd22bc59d32e17fef76d31e9c021bfa587cd7ba3689e88db332f7786cd'), <NodeRelationship.NEXT: '3'>: RelatedNodeInfo(node_id='21b8651a-a012-4494-b531-be6e629ccf45', node_type=<ObjectType.TEXT: '1'>, metadata={}, hash='08446413929c180cb4ecdc5e349fb1602bc5cf11e6ce7fc828ce2aa4b16386f4')}, text='and besting the debut of Godzilla vs. Kong ($31.6 million) for the highest opening weekend for Warner Bros. during the pandemic era. Of that opening weekend take, $17.5 million came from its first day ticket sales, including $5.1 million from Thursday night previews. Dune also had the best opening of Villeneuve\\'s career. The film fell 62% in its second weekend to $15.5 million, though it remained atop the domestic box office. In its third weekend it dropped by 51% to earn $7.6 million, and was displaced by Eternals from the top rank. On November 25, 2021, Dune became the second Warner Bros. film of the pandemic era to cross $100 million in the US and Canada, following Godzilla vs. Kong.The film was released in 14 markets outside the US and Canada on September 15, 2021. It grossed $37.9 million, with the largest markets being Russia and CIS ($8.9 million), France ($7.2 million), Germany ($4.4 million), Taiwan ($3.4 million), Italy ($2.5 million) and Spain ($2.4 million). After adding an additional $26.3 million from 32 countries in its second weekend, the film had a 10-day running total of $76.5 million.In China, Dune opened to a $21.6 million weekend according to estimates by Warner Brothers, ranking second on the country\\'s box office behind The Battle at Lake Changjin. In its fourth week of release outside the US and Canada, the film made $21.4 million in 75 countries, a drop of 54% from the previous weekend. It also fell by 78% to about $5 million in China, dropping to the third rank. The film crossed the $300 million global mark on November 2. During the fifth weekend it earned $11.1 million, a drop of 52%. This included $2.1 million in China where it dropped to the fifth rank.After its return to IMAX for a week on December 2, the film earned an estimated $1.8 million during the weekend, a drop of 13% from the previous weekend, primarily due to earning around $1 million from IMAX. In Australia it debuted atop the box office chart, earning $3.4 million in the opening weekend. The $400 million global mark was crossed on February 14, 2022, with the largest running-total countries outside the US and Canada being China ($39.5 million), France ($32.6 million), the UK ($30 million), Germany ($22.5 million) and Russia ($21.3 million).\\n\\n\\n=== Streaming viewership ===\\nAccording to Samba TV, the film was watched in over 1.9 million US households during its first three days of release, which grew to 2.3 million within its first week of release. 3.9 million US households had watched the film within its first 30 days of release. According to TV Time, it was the most-watched film overall in the United States from the first to the third week of its release consecutively, before dropping to the sixth rank in its fourth week. The film rose to the third rank on TV Time\\'s chart in the final week of its availability. It was the ninth-most-streamed-film of 2021 according to the service. By March 20, the film had been streamed in 5.3 million households in the US, including 996,000 since the Oscar nomination announcements on February 8.After its release on PVOD services, Dune debuted at the second position on iTunes and Vudu charts, while being ranked seventh on Google Play. The following week it fell to the seventh position on iTunes and the third position on Vudu, while maintaining its ranking on Google Play. After falling out of the charts for two weeks, it found renewed interest as it rose to the tenth position on iTunes, seventh position on Google Play, and the fifth position on Vudu. It however fell out of the iTunes and Google Play charts again in the following week, while dropping to the tenth position on the Vudu chart.The film was the highest-selling title on Redbox\\'s digital service for the week of January 24–30, 2022. It was also the top-ranked film on iTunes during the same week. Following the Academy Awards nominations, it reentered the top 10 charts for iTunes, Google Play and Vudu.\\n\\n\\n=== Critical response ===\\nOn the review aggregator website Rotten Tomatoes, 83% of 513 critics\\' reviews are positive, with an average rating of 7.6/10. The website\\'s consensus reads: \"Dune occasionally struggles with its unwieldy source material, but those issues are largely overshadowed by the scope and ambition of this visually thrilling adaptation.\" Metacritic gave the film a weighted average score of 74 out of', start_char_idx=45966, end_char_idx=50334, text_template='{metadata_str}\\n\\n{content}', metadata_template='{key}: {value}', metadata_seperator='\\n'),\n",
              " TextNode(id_='21b8651a-a012-4494-b531-be6e629ccf45', embedding=None, metadata={'title': 'Dune: Part Two'}, excluded_embed_metadata_keys=[], excluded_llm_metadata_keys=[], relationships={<NodeRelationship.SOURCE: '1'>: RelatedNodeInfo(node_id='52659577', node_type=<ObjectType.DOCUMENT: '4'>, metadata={}, hash='278ef48d2e8c97c6923e9e5082f71d14dfe7e7e56957ddd1ce94127d61a62b0c'), <NodeRelationship.PREVIOUS: '2'>: RelatedNodeInfo(node_id='c5c13c8b-250d-4d2b-b557-f7a88c7a94e7', node_type=<ObjectType.TEXT: '1'>, metadata={}, hash='b19e100b7d0d2fff6d13169205819c5efa4b8a644b8932645960332eb7a090d8'), <NodeRelationship.NEXT: '3'>: RelatedNodeInfo(node_id='7ebcce1b-33cb-4be8-b269-0c3ec7e2d60c', node_type=<ObjectType.TEXT: '1'>, metadata={}, hash='1f9a2a01d04d2b08829dbfcf6f767943b7d16f4fa6a074c49a28ba397cb82bbf')}, text='this visually thrilling adaptation.\" Metacritic gave the film a weighted average score of 74 out of 100, based on 68 critics, indicating \"generally favorable reviews\". Audiences polled by CinemaScore gave the film an average grade of \"A−\" on an A+ to F scale, while those at PostTrak gave it an 84% positive score (with an average rating of 4.5 out of 5 stars) and 66% saying they would definitely recommend it. Following its premiere at the Venice Film Festival in September 2021, early reception was generally positive, receiving praise for its ambition, story, scope, worldbuilding, performances (particularly those of Chalamet and Ferguson) and production values, although some critics considered the story to be incomplete and dull. Its writing and scope continued to be praised following its release, while others criticized the runtime, pacing, and adaptation of the source material.Ben Travis of Empire, Robbie Collin from The Daily Telegraph, and Xan Brooks at The Guardian rated the film five out of five stars. Travis praised the writing and direction, feeling it helped properly establish elements of worldbuilding. He also lauded Fraser\\'s cinematography and Zimmer\\'s score, calling the film \"blockbuster filmmaking in the Christopher Nolan mould\", and praising Chalamet and Ferguson\\'s performances. However, he felt that the \"emotional strings\" were not very impactful to him. Brooks agreed with the sentiment that it was a high-quality blockbuster film and found it \"the missing link bridging the multiplex and the arthouse\", citing the worldbuilding, ensemble cast, and set pieces as positive elements. Collins also praised the writing and Chalamet and Ferguson\\'s performances, feeling the exposition was written well. However, he highlighted the production design and the sandworms, calling the latter \"threateningly alien, but also enticing, even addictive\" and commenting \"the sets ring with the desolate grandeur of ancient ruins\".In a positive yet more critical review, Justin Chang of the Los Angeles Times felt the film used thematic elements from the novel well, and also lauded the production values albeit labelling the visual aesthetic as monochromatic. Chang further went on to praise the plot for increasing the role of women in the story and tension regarding anticipation of action sequences, which he thought were directed well. However, he disliked the \"abrupt, unsatisfying\" ending and wanted Villeneuve\\'s style to align with David Lynch\\'s style, which he considered to contain \"feverish, pustular imagery\".  Leah Greenblatt of Entertainment Weekly, who graded the film a B, wrote that Dune had little exposition and also appreciated the worldbuilding and visual aesthetic. However, she did not appreciate the jokes and felt the script gradually adjusted \"and soon settles into a kind of grim grandeur\", highlighting Chalamet and Isaac\\'s performances. The New York Times\\'s Manohla Dargis also admired the production values and worldbuilding, adding the exposition and pacing was appropriate to establish the latter. However, while she felt Villeneuve had attempted to be faithful to the source material, she also opined that Villeneuve was trying to satisfy the demands of the contemporary film industry. Her major issues were also with the ending and what she deemed to be a \"white man leading a fateful charge\", though she refrained from labelling it a white savior narrative.Critic Owen Gleiberman\\'s review in Variety was more negative: he appreciated the film\\'s extensive focus on worldbuilding, but felt it had also undermined the storytelling. He found the title of \"Dune Part I [sic]\" to be \"presumptuous\", regarding it to be analogous to how other film franchises advertise future installments. Gleiberman felt the film\\'s spectacles, including the sandworm and ornithopter sequences, disengage him from the story, saying \"as the movie begins to run out of tricks, it turns woozy and amorphous\". Reviewing the film for TheWrap, Steve Pond noted the film\\'s darker tone had remained consistent, and cited the production design and scope as positive elements. Pond enjoyed the action sequences on Arrakis and appreciated that Villeneuve \"finds some dark poetry in the way he plays up the story’s mystical elements\". However, he was mixed on the film\\'s dark tone, regarding it as a tonal deviation from his previous films but also allowing it to be \"giant mood piece that can be exhilarating in its dark beauty\". Roxana Hadadi\\'s review in Vulture critiqued the way the film flattened the cultural and religious complexities of the book and opted for a more generic portrayal of people of color without specific representation from Middle Eastern or North African (MENA) actors.Other commentators and academics also perceived the film to have neglected and appropriated Arabian and Islamic elements which influenced Dune, and to have excluded Middle Eastern or North African (MENA) actors. Serena Rasoul, founder of Muslim Casting, wanted more MENA representation', start_char_idx=50235, end_char_idx=55233, text_template='{metadata_str}\\n\\n{content}', metadata_template='{key}: {value}', metadata_seperator='\\n'),\n",
              " TextNode(id_='7ebcce1b-33cb-4be8-b269-0c3ec7e2d60c', embedding=None, metadata={'title': 'Dune: Part Two'}, excluded_embed_metadata_keys=[], excluded_llm_metadata_keys=[], relationships={<NodeRelationship.SOURCE: '1'>: RelatedNodeInfo(node_id='52659577', node_type=<ObjectType.DOCUMENT: '4'>, metadata={}, hash='278ef48d2e8c97c6923e9e5082f71d14dfe7e7e56957ddd1ce94127d61a62b0c'), <NodeRelationship.PREVIOUS: '2'>: RelatedNodeInfo(node_id='21b8651a-a012-4494-b531-be6e629ccf45', node_type=<ObjectType.TEXT: '1'>, metadata={}, hash='08446413929c180cb4ecdc5e349fb1602bc5cf11e6ce7fc828ce2aa4b16386f4'), <NodeRelationship.NEXT: '3'>: RelatedNodeInfo(node_id='74ae6a35-08a8-41c8-abcc-a8fe394647c8', node_type=<ObjectType.TEXT: '1'>, metadata={}, hash='61885949a69dc5d47199044ab22ed46442e286cf2569502a7aeca80b643124f5')}, text='(MENA) actors. Serena Rasoul, founder of Muslim Casting, wanted more MENA representation and labelled the lack of MENA actors an \"erasure\". However, she also acknowledged the cast\\'s overall diversity and did not call the film Orientalist. On the other hand, Ph.D. student in History at Princeton University Haris Durrari deemed it to be Orientalist as he opined it reduced Arab influences to \"exotic aesthetics\" and \"broad abstractions\". Meanwhile, Ali Karjoo-Ravary, an Assistant Professor of Islamic Studies at Bucknell University, felt that the casting of African actors excluded MENA actors, and that characters portrayed by African people felt \"ultimately empty\" as they had died or were not as developed as Paul and Lady Jessica.\\n\\n\\n=== Accolades ===\\n\\nDune was nominated for ten Academy Awards (winning six), three Golden Globe Awards (winning one), eleven British Academy Film Awards (winning five), ten Critics\\' Choice Movie Awards (winning three), two AACTA International Awards (winning one), ten Satellite Awards (winning five), one Grammy Award, one Hollywood Music in Media Awards (won), four People\\'s Choice Awards, one Screen Actors Guild Awards, three Dorian Awards (winning one), and one Nickelodeon Kids\\' Choice Award (won), among others. It was also ranked as one of the top ten films of 2021 by the American Film Institute.\\n\\n\\n== Sequels and spin-offs ==\\nVilleneuve intended to make a two-part adaptation of the novel, and by November 2019, Jon Spaihts left his position as showrunner on Dune: Prophecy to focus on writing the sequel film. Villeneuve felt that Warner Bros.\\' decision in December 2020 to simultaneously release their 2021 films through HBO Max alongside a theatrical release due to the impact of the COVID-19 pandemic on cinema could compromise the film\\'s financial performance, resulting in the cancellation of the sequel, though Warner Bros. assured him a sequel would be greenlit as long as the film performed well on HBO Max.Following the film\\'s success, Warner Bros. and Legendary Pictures officially greenlit Dune: Part Two in October 2021. Villeneuve\\'s main concern was to finish the production, which would benefit from all the work on the first part. Main characters reprise their role from the first film, with additional casting lasting from March to July 2022, and concluding by January 2023. Preliminary filming began in Italy by early July 2022, and concluded that December. The film was released on March 1, 2024. Dune: Part Two\\'s world premiere took place at Odeon Luxe Leicester Square in London on February 15.Villeneuve expressed interest in making a third film based on Dune Messiah, the second novel in the series, adding that the possibility for the film depended on the success of Dune: Part Two. Spaihts also reiterated in March 2022 that Villeneuve had plans for a third film as well as the television spin-off series Dune: Prophecy. In August 2023, Villeneuve declared his intentions for the film to serve as the conclusion of his Dune trilogy. Villeneuve began developing a script by 2023. In February 2024, Villeneuve said the script was \"almost finished\" but also wanted to take time to ensure his satisfaction, citing Hollywood\\'s tendency of focusing on release dates over quality. Ahead of Dune: Part Two\\'s release, Hans Zimmer revealed he was already writing music for a third film.In June 2019, Legendary Television announced it is producing a spin-off series, Dune: The Sisterhood, for WarnerMedia\\'s streaming service, HBO Max. The series serves as a prequel to the film and centers on the Bene Gesserit. Initially, Villeneuve was going to direct the series\\' pilot, with Spaihts writing the screenplay and Dana Calvo as showrunner for the series. In November 2019, Spaihts left the series as writer to focus on the sequel film. Spaihts and Villeneuve remain as executive producers along with Brian Herbert, Byron Merritt, and Kim Herbert. In July 2021, Diane Ademu-John took over as showrunner. Spaihts and Villeneuve confirmed in March 2022 that the show is still in development. In April 2022, it was announced that Johan Renck will direct the first two episodes. Travis Fimmel joined the cast in November 2022. In February 2023, it was announced that production was put on hiatus as Renck exited the project. The series was retitled Dune: Prophecy in November 2023.\\n\\n\\n== References ==\\n\\n\\n== External links ==\\n\\nOfficial website\\nDune at IMDb \\nOfficial screenplay\\nJacob, Frank (2022), The Orientalist Semiotics of', start_char_idx=55145, end_char_idx=59625, text_template='{metadata_str}\\n\\n{content}', metadata_template='{key}: {value}', metadata_seperator='\\n'),\n",
              " TextNode(id_='74ae6a35-08a8-41c8-abcc-a8fe394647c8', embedding=None, metadata={'title': 'Dune: Part Two'}, excluded_embed_metadata_keys=[], excluded_llm_metadata_keys=[], relationships={<NodeRelationship.SOURCE: '1'>: RelatedNodeInfo(node_id='52659577', node_type=<ObjectType.DOCUMENT: '4'>, metadata={}, hash='278ef48d2e8c97c6923e9e5082f71d14dfe7e7e56957ddd1ce94127d61a62b0c'), <NodeRelationship.PREVIOUS: '2'>: RelatedNodeInfo(node_id='7ebcce1b-33cb-4be8-b269-0c3ec7e2d60c', node_type=<ObjectType.TEXT: '1'>, metadata={}, hash='1f9a2a01d04d2b08829dbfcf6f767943b7d16f4fa6a074c49a28ba397cb82bbf'), <NodeRelationship.NEXT: '3'>: RelatedNodeInfo(node_id='4a018d9c-8395-4ee4-a5b9-6b121f7a647b', node_type=<ObjectType.TEXT: '1'>, metadata={}, hash='11e999dff02034eaf678e255374e8940cbff3ad616f759f86aa18e090331a0b7')}, text=\"at IMDb \\nOfficial screenplay\\nJacob, Frank (2022), The Orientalist Semiotics of Dune: Religious and Historical References within Frank Herbert's Universe (PDF of the book in open access) (Monograph), Büchner\", start_char_idx=59547, end_char_idx=59753, text_template='{metadata_str}\\n\\n{content}', metadata_template='{key}: {value}', metadata_seperator='\\n'),\n",
              " TextNode(id_='4a018d9c-8395-4ee4-a5b9-6b121f7a647b', embedding=None, metadata={'title': 'Dune: Part Two'}, excluded_embed_metadata_keys=[], excluded_llm_metadata_keys=[], relationships={<NodeRelationship.SOURCE: '1'>: RelatedNodeInfo(node_id='63790171', node_type=<ObjectType.DOCUMENT: '4'>, metadata={}, hash='67004bace9b201004ac25753f3a51405d2e59e70064f82d21dc92d9baa625b6e'), <NodeRelationship.PREVIOUS: '2'>: RelatedNodeInfo(node_id='74ae6a35-08a8-41c8-abcc-a8fe394647c8', node_type=<ObjectType.TEXT: '1'>, metadata={}, hash='61885949a69dc5d47199044ab22ed46442e286cf2569502a7aeca80b643124f5'), <NodeRelationship.NEXT: '3'>: RelatedNodeInfo(node_id='3eebf9ff-e5e5-4ad0-9b47-763b216c8f43', node_type=<ObjectType.TEXT: '1'>, metadata={}, hash='91250e738d99121c757315eb47a09cf49033b06329f60b57133a32766512d377')}, text='Dune: Part Two is a 2024 American epic science fiction film directed and produced by Denis Villeneuve, who co-wrote the screenplay with Jon Spaihts. The sequel to Dune (2021), it is the second of a two-part adaptation of the 1965 novel Dune by Frank Herbert. It follows Paul Atreides as he unites with the Fremen people of the desert planet Arrakis to wage war against House Harkonnen. Timothée Chalamet, Rebecca Ferguson, Josh Brolin, Stellan Skarsgård, Dave Bautista, Zendaya, Charlotte Rampling, and Javier Bardem reprise their roles from the first film, with Austin Butler, Florence Pugh, Christopher Walken, Léa Seydoux, and Souheila Yacoub joining the ensemble cast.\\nDevelopment began after Legendary Entertainment acquired film and television rights for the Dune franchise in 2016. Villeneuve signed on as director in 2017, intending to make a two-part adaptation of the novel due to its complexity. Production contracts were only secured for the first film, with the second film having to be green-lit based on the first\\'s success. Villeneuve was concerned about the sequel\\'s certainty after the first film had a simultaneous theatrical and HBO Max release but Warner Bros. Pictures assured him the sequel would happen if it performed well on HBO Max. After the critical and commercial success of the first film, Warner Bros. and Legendary green-lit Dune: Part Two in October 2021. Principal photography took place in Budapest, Italy, Jordan and Abu Dhabi between July and December 2022.\\nDune: Part Two was scheduled for a November 2023 release, but was delayed by the 2023 Hollywood labor disputes. The film had its world premiere at the Odeon Luxe Leicester Square, London, on February 15, 2024, and opened in the United States on March 1. It received praise from critics and has grossed $514 million worldwide, making it the highest-grossing film of 2024.\\n\\n\\n== Plot ==\\nFollowing the destruction of House Atreides by House Harkonnen, Princess Irulan Corrino, the daughter of Padishah Emperor Shaddam IV, secretly journals that Paul Atreides may be alive. On Arrakis, Stilgar\\'s Fremen troops, including Paul and his pregnant mother Lady Jessica, overcome a Harkonnen patrol. When Jessica and Paul reach Sietch Tabr, some Fremen suspect they are spies, while Stilgar and others see signs of the prophecy that a mother and son from the \"Outer World\" will bring prosperity to Arrakis.\\nStilgar tells Jessica that Sietch Tabr\\'s Reverend Mother is dying and that she must replace her by drinking the Water of Life — a fatal poison for males and the untrained. Jessica transmutes the poison, surviving and inheriting the memories of every female ancestor in her lineage. The liquid also prematurely awakens the mind of her unborn daughter, Alia, allowing Jessica to communicate with her. They agree to focus on convincing the more skeptical northern Fremen of the prophecy. Jessica urges Paul also to drink the Water of Life and become the Kwisatz Haderach. Chani and her friend Shishakli believe the prophecy was fabricated to manipulate the Fremen. However, she begins to respect Paul after he declares that he only intends to fight alongside the Fremen, not to rule them.\\nPaul and Chani fall in love as Paul embraces the Fremen ways: learning their language, taking part in rites such as riding a sandworm, becoming a Fedaykin fighter, and helping raid Harkonnen spice operations. Paul adopts the Fremen names \"Usul\" and \"Muad\\'Dib.\" Due to the devastating spice raids, Baron Harkonnen replaces his nephew Rabban as Arrakis\\'s ruler with his psychotic younger nephew and heir apparent Feyd-Rautha. Lady Margot Fenring, a Bene Gesserit, is sent to evaluate Feyd-Rautha as a prospective Kwisatz Haderach and to seduce him to secure his genetic lineage.\\nJessica travels south to unite with Fremen fundamentalists who believe in the prophecy. Paul stays north, fearful that his visions of a holy war will come true if he goes south as a messiah. He reunites with Gurney Halleck who leads him to the hidden atomic stockpile of House Atreides. Feyd-Rautha attacks the northern Fremen — including Sietch Tabr — forcing Paul and the survivors to journey south. Shishakli remains behind and is killed by Feyd-Rautha. Arriving south, Paul drinks the Water of Life and falls into a coma. Chani is angered by this but is forced by Jessica to revive him by mixing her tears with the liquid. Paul attains a clearer vision of the past, present, and future, seeing an', start_char_idx=0, end_char_idx=4454, text_template='{metadata_str}\\n\\n{content}', metadata_template='{key}: {value}', metadata_seperator='\\n'),\n",
              " TextNode(id_='3eebf9ff-e5e5-4ad0-9b47-763b216c8f43', embedding=None, metadata={'title': 'Dune: Part Two'}, excluded_embed_metadata_keys=[], excluded_llm_metadata_keys=[], relationships={<NodeRelationship.SOURCE: '1'>: RelatedNodeInfo(node_id='63790171', node_type=<ObjectType.DOCUMENT: '4'>, metadata={}, hash='67004bace9b201004ac25753f3a51405d2e59e70064f82d21dc92d9baa625b6e'), <NodeRelationship.PREVIOUS: '2'>: RelatedNodeInfo(node_id='4a018d9c-8395-4ee4-a5b9-6b121f7a647b', node_type=<ObjectType.TEXT: '1'>, metadata={}, hash='11e999dff02034eaf678e255374e8940cbff3ad616f759f86aa18e090331a0b7'), <NodeRelationship.NEXT: '3'>: RelatedNodeInfo(node_id='cd1c202a-17e1-46bf-94ca-393952d0d109', node_type=<ObjectType.TEXT: '1'>, metadata={}, hash='30a03e3a1146c6ee6b9e9b1d27da7ab2ba781af90e7f30e2fd27f9f2620a9bed')}, text='the liquid. Paul attains a clearer vision of the past, present, and future, seeing an adult Alia on a water-filled Arrakis and discovering Jessica is the Baron\\'s daughter, making Paul both an Atreides and a Harkonnen. \\nThe southern Fremen leaders urge Paul to challenge Stilgar for leadership, but he refuses and instead galvanizes the fundamentalists by showing that he can read their innermost thoughts. He declares himself the Lisan al Gaib and sends a challenge to Emperor Shaddam. Gaius Helen Mohiam tells Irulan that she advised the Emperor to annihilate House Atreides as they had grown too defiant. Shaddam arrives on Arrakis with Irulan, Mohiam, and his Sardaukar troops. As he meets the Harkonnens, the Fremen launch a massive military strike using atomics and sandworms. They overpower the Sardaukar, while Paul kills the Baron and takes Shaddam and his entourage captive. Gurney intercepts and kills a fleeing Rabban.\\nTo Chani\\'s dismay, Paul challenges Shaddam for the throne, demanding Irulan\\'s hand in marriage. Shaddam admits his involvement in House Atreides\\' destruction. Previously summoned by the Baron, the Great Houses arrive in orbit. Paul threatens to destroy the spice fields with atomics if they intervene. Shaddam chooses Feyd-Rautha as his champion, and Paul kills him in a knife duel. Irulan agrees to Paul\\'s request for marriage on the condition that her father lives. Shaddam kneels and kisses Paul\\'s signet ring. The Great Houses above Arrakis reject Paul\\'s ascendancy, so Paul orders the Fremen to attack the orbiting fleet. As Stilgar leads the Fremen onto the captured Sardaukar ships, Jessica and Alia see this as the beginning of Muad\\'Dib\\'s holy war. Chani refuses to bow to Paul and departs alone on a sandworm.\\n\\n\\n== Cast ==\\n\\nAnya Taylor-Joy makes an uncredited cameo appearance as Alia Atreides, Paul\\'s unborn sister who appears in his visions as well as communicating to Jessica while in her womb. Babs Olusanmokun and Roger Yuan reprise their roles from the first film as Jamis and Lieutenant Lanville, respectively. Stephen McKinley Henderson filmed scenes reprising his role as Thufir Hawat, while Tim Blake Nelson filmed scenes as an undisclosed character, but their scenes were not included in the final cut. Both were given a \"Special Thanks\" credit by Villeneuve.\\n\\n\\n== Production ==\\n\\n\\n=== Development ===\\nBy November 2016, Legendary Pictures had obtained the film and TV rights for the Dune franchise, based on the eponymous 1965 novel by Frank Herbert. Vice chair of worldwide production for Legendary Mary Parent began discussing with Denis Villeneuve about directing a film adaptation, quickly hiring him after realizing his passion for Dune. By February 2018, Villeneuve was confirmed to be hired as director, and intended to adapt the novel as a two-part film series. Villeneuve ultimately secured a two-film deal with Warner Bros. Pictures, in the same style as the two-part adaption of Stephen King\\'s It in 2017 and 2019. In January 2019, Joe Walker was confirmed to be serving as the film\\'s editor. Other crew included Brad Riker as supervising art director, Patrice Vermette as production designer, Paul Lambert as visual effects supervisor, Gerd Nefzer as special effects supervisor, and Thomas Struthers as stunt coordinator. Dune: Part Two was produced by Villeneuve, Mary Parent, and Cale Boyter, with Tanya Lapointe, Brian Herbert, Byron Merritt, Kim Herbert, Thomas Tull, Jon Spaihts, Richard P. Rubinstein, John Harrison, and Herbert W. Gain serving as executive producers and Kevin J. Anderson as creative consultant. Legendary CEO Joshua Grode confirmed in April 2019 that they plan to make a sequel, adding that \"there\\'s a logical place to stop the [first] movie before the book is over\".In December 2020, Villeneuve stated that due to Warner Bros.\\' plan to release the film in theaters and on HBO Max simultaneously, the first film could underperform financially, resulting in cancellation of the planned sequel. In an IMAX screening of the first film\\'s first ten minutes, the title logo read Dune: Part One, lending credence to plans for the sequel. By August 2021, Villeneuve spoke more confidently about the chances of a sequel film, iterating his excitement to work with Timothée Chalamet and Zendaya again, while stating Chani would have a bigger role in the sequel. Warner Bros. assured Villeneuve a sequel would be greenlit as long as the film performed well on HBO Max. Just days prior to the first film\\'s', start_char_idx=4369, end_char_idx=8848, text_template='{metadata_str}\\n\\n{content}', metadata_template='{key}: {value}', metadata_seperator='\\n'),\n",
              " TextNode(id_='cd1c202a-17e1-46bf-94ca-393952d0d109', embedding=None, metadata={'title': 'Dune: Part Two'}, excluded_embed_metadata_keys=[], excluded_llm_metadata_keys=[], relationships={<NodeRelationship.SOURCE: '1'>: RelatedNodeInfo(node_id='63790171', node_type=<ObjectType.DOCUMENT: '4'>, metadata={}, hash='67004bace9b201004ac25753f3a51405d2e59e70064f82d21dc92d9baa625b6e'), <NodeRelationship.PREVIOUS: '2'>: RelatedNodeInfo(node_id='3eebf9ff-e5e5-4ad0-9b47-763b216c8f43', node_type=<ObjectType.TEXT: '1'>, metadata={}, hash='91250e738d99121c757315eb47a09cf49033b06329f60b57133a32766512d377'), <NodeRelationship.NEXT: '3'>: RelatedNodeInfo(node_id='b4f041cb-a8db-4d25-a4af-c527a69da152', node_type=<ObjectType.TEXT: '1'>, metadata={}, hash='d3976c6f01581d310cf191a24f4ebeead0a176a7944b1d31e47e543091e0bd1f')}, text='as long as the film performed well on HBO Max. Just days prior to the first film\\'s release, Warner Bros. CEO Ann Sarnoff stated, \"Will we have a sequel to Dune? If you watch the movie you see how it ends. I think you pretty much know the answer to that.\"On October 26, 2021, Legendary officially greenlit Dune: Part Two, with a spokesperson for the company stating, \"We would not have gotten to this point without the extraordinary vision of Denis and the amazing work of his talented crew, the writers, our stellar cast, our partners at Warner Bros., and of course the fans! Here\\'s to more Dune.\" Production work had occurred back-to-back with the first film, as Villeneuve and his wife Lapointe immediately took a flight to Budapest in order to begin pre-production work. A key point of negotiation prior to greenlighting the sequel was assuring that the sequel would have an exclusive window where it would only be shown theatrically, with Legendary and Warner Bros. agreeing to give Dune: Part Two a 45-day window before it would be available through other channels. Villeneuve said this theatrical exclusivity was a \"non-negotiable condition\", and that \"the theatrical experience is at the very heart of the cinematic language for me.\" With Dune: Part Two being greenlit, Villeneuve said that his primary concern was to complete the filming as soon as possible, with the earliest he expected to start in the last quarter of 2022. However, he noted that production would be expedited by the work already done for the first film.\\n\\n\\n=== Writing ===\\n\\nEric Roth was hired to co-write the screenplay in April 2017 for the Dune films, and Jon Spaihts was later confirmed to be co-writing the script alongside Roth and Villeneuve. Game of Thrones language creator David Peterson was confirmed to be developing languages for the film in April 2019. Villeneuve and Peterson had created the Chakobsa language, which was used by actors on set. In November 2019, Spaihts stepped down as show-runner for Dune: Prophecy to focus on Dune: Part Two. In June 2020, Greig Fraser said, \"It\\'s a fully formed story in itself with places to go. It\\'s a fully standalone epic film that people will get a lot out of when they see it\". Between the release of Dune and the confirmation of Dune: Part Two, Villeneuve started working the script in a way that production could begin immediately once the film was greenlit. By February 2021, Roth created a full treatment for the sequel, with writing beginning that August. He confirmed that Feyd-Rautha would appear in the film, and stated he will be a \"very important character\". In March 2022, Villeneuve had mostly finished writing the screenplay. Craig Mazin and Roth wrote additional literary material for the film.Villeneuve stated that the film would continue directly from the first, and specifically described it as being the \"second part.\" He described the film as being an \"epic war movie\", adding that while the first film was more \"contemplative\", the second would feature more action. Villeneuve sought to anchor the movie to the characters, primarily Paul and Chani. With the two featured in an \"epic love story\" between them, Villeneuve described them as the \"epicenter of the story\". Zendaya initially found difficulty in creating dialogue, commenting that \"It was funny trying to figure out in this futuristic space talk, like, how do they flirt?\" Chalamet also added that Paul would be heavily influenced by Chani, serving as his \"moral compass\". Additionally, Paul becomes deeply embedded in Fremen culture, developing a closer bond with Stilgar, who becomes his surrogate father figure and mentor, while tensions emerge between Chani and Lady Jessica, as Chani is aware that Jessica\\'s schemes negatively impact the Fremen. The script ultimately conveys Chani as a nonbeliever of the prophecy and intended for its structure to first convey their romantic relationship from Paul\\'s perspective, and eventually pivot to Chani\\'s perspective as the audience realizes Paul\\'s desire for power and insidious nature. He focused on Herbert\\'s original intention to depict Paul as an antihero in Dune to becoming an eventual villain, and wrote the script with that in mind while also considering his future plans regarding Dune Messiah, particularly by modifying Chani\\'s characterization as he felt that she eventually \"disappeared in Paul\\'s shadows\" in the book. Feeling he had the \"benefit of time\" in doing so, Villeneuve decided to use all the elements of Paul\\'s character arc and \"play them a bit differently\" in order to establish his eventual transformation into a villainous figure and becoming \"what he was trying to fight against\". He expanded the role of Chani and Lady Jessica from the novel,', start_char_idx=8766, end_char_idx=13502, text_template='{metadata_str}\\n\\n{content}', metadata_template='{key}: {value}', metadata_seperator='\\n'),\n",
              " TextNode(id_='b4f041cb-a8db-4d25-a4af-c527a69da152', embedding=None, metadata={'title': 'Dune: Part Two'}, excluded_embed_metadata_keys=[], excluded_llm_metadata_keys=[], relationships={<NodeRelationship.SOURCE: '1'>: RelatedNodeInfo(node_id='63790171', node_type=<ObjectType.DOCUMENT: '4'>, metadata={}, hash='67004bace9b201004ac25753f3a51405d2e59e70064f82d21dc92d9baa625b6e'), <NodeRelationship.PREVIOUS: '2'>: RelatedNodeInfo(node_id='cd1c202a-17e1-46bf-94ca-393952d0d109', node_type=<ObjectType.TEXT: '1'>, metadata={}, hash='30a03e3a1146c6ee6b9e9b1d27da7ab2ba781af90e7f30e2fd27f9f2620a9bed'), <NodeRelationship.NEXT: '3'>: RelatedNodeInfo(node_id='2006faac-293c-4dc7-a9f2-0eed1128c75e', node_type=<ObjectType.TEXT: '1'>, metadata={}, hash='64406c6456c5b0fc65bd7b75d00db23bdb71768e1486a41152b652ed047a72e2')}, text='was trying to fight against\". He expanded the role of Chani and Lady Jessica from the novel, and interpreted Chani as being a critique of power. When envisioning the sandworm sequence, Villeneuve primarily relied upon his own drawings and storyboards, as he felt the book did not contain adequate descriptions. He later cited it as being one of his favorite scenes in the film. When writing Paul\\'s character arc, he considered Paul as transforming from a \"humble\" figure to a \"dark messianic figure\", and took inspiration from Katsuhiro Otomo\\'s Akira (1988) when designing the storyboards. Villeneuve felt the film\\'s ending was more \"tragic\" than that of the book, feeling that it adequately resolved Paul\\'s storyline across the Dune films while setting up his character arc for a potential third film based on Dune Messiah (1969).Following the first film, Baron Harkonnen is described as being heavily debilitated and reliant on being submerged in fluids, while focusing on choosing an heir: Glossu Rabban or Feyd-Rautha, both his nephews. Rabban was regarded as being a bad strategist, while Feyd-Rautha is shown to be clever and charismatic. Actor Austin Butler felt Feyd-Rautha\\'s character served as \"flip sides of the same coin\" to Paul, as both had been involved in the Bene Gesserit\\'s genetic breeding program; Butler opined Feyd-Rautha\\'s upbringing on Giedi Prime and self-care for his body explained his arrogance. Meanwhile, Villeneuve noted his psychopathic personality and brutality similar to that of an animal contrasted his \"code of honors\" and reverence for fighters. Lady Jessica is also heavily traumatized by the death of Duke Leto, being compared to Paul as a \"survivor\" and strategizing to realize the ambitions of the Bene Gesserit, who aim to fulfill their prophecy to maximize human potential, disregarding morality and ethics. There is also additional focus on the political aspect, with Princess Irulan fearing that her father, Emperor Shaddam IV, will lose his throne due to his loss of influence over warring factions. During the sequence of Paul\\'s consumption of the Water of Life, Villeneuve deliberately altered the timeframe to depict an adult Alia for a dramatic effect and to highlight Alia\\'s unique birth. He and Spaihts decided to \"compress\" the time for both the sequence and Lady Jessica\\'s pregnancy in order to establish more narrative tension. He also added that Lady Jessica\\'s conversations with an embryonic Alia was unique as he felt it was \"fresh and original to have a character who is powerful and still a pregnant woman\" while also conveying how others perceive Alia as an \"abomination\". Like Chani and Lady Jessica, Villeneuve further developed Princess Irulan\\'s character and motivations from the novel, with Pugh noting her reserved nature and intelligence.\\n\\n\\n=== Casting ===\\n\\nIn March 2022, Florence Pugh and Butler were reported to be in talks to star in the film as Princess Irulan and Harkonnen heir Feyd-Rautha, respectively. Butler was offered the role while having coffee with Villeneuve, without needing to audition. He trained for four months in Budapest, using a fitness regimen made by an ex-Navy SEALs member. Villeneuve described his performance as being a \"cross between a psychopath killer, an Olympic sword master, a snake, and Mick Jagger\" while Butler researched past cultures he felt \"bred brutality\" and took inspiration from various animals including sharks and snakes. Butler also said that he drew inspiration from Gary Oldman and Heath Ledger for his performance. He imitated Skarsgård\\'s voice as the Baron, as he felt that Feyd would be influenced by the Baron due to growing up with him. In May, Christopher Walken joined the cast as Shaddam IV. In June, Léa Seydoux entered negotiations to join the cast as Lady Margot Fenring. In July, Souheila Yacoub joined the cast as Shishakli. In January 2023, Tim Blake Nelson was added to the cast in an undisclosed role. Attending the film\\'s London premiere in February 2024, Anya Taylor-Joy confirmed that she had been cast in the film. Villeneuve was surprised that her role had been kept a secret for that long, noting it required \"so much work to keep that secret\". Her role had been revealed in a casting credit list for the film on Letterboxd.\\n\\n\\n=== Filming ===\\nPre-shooting had commenced on July 4, 2022, at the Brion tomb in Altivole, Italy for two days. Principal photography was set to begin on July 21 in Budapest, Hungary, but began earlier on July 18. The film was entirely shot using Arri Alexa LF digital cameras, with new filming locations and sets being used \"to avoid repetition.\" By October', start_char_idx=13410, end_char_idx=18038, text_template='{metadata_str}\\n\\n{content}', metadata_template='{key}: {value}', metadata_seperator='\\n'),\n",
              " TextNode(id_='2006faac-293c-4dc7-a9f2-0eed1128c75e', embedding=None, metadata={'title': 'Dune: Part Two'}, excluded_embed_metadata_keys=[], excluded_llm_metadata_keys=[], relationships={<NodeRelationship.SOURCE: '1'>: RelatedNodeInfo(node_id='63790171', node_type=<ObjectType.DOCUMENT: '4'>, metadata={}, hash='67004bace9b201004ac25753f3a51405d2e59e70064f82d21dc92d9baa625b6e'), <NodeRelationship.PREVIOUS: '2'>: RelatedNodeInfo(node_id='b4f041cb-a8db-4d25-a4af-c527a69da152', node_type=<ObjectType.TEXT: '1'>, metadata={}, hash='d3976c6f01581d310cf191a24f4ebeead0a176a7944b1d31e47e543091e0bd1f'), <NodeRelationship.NEXT: '3'>: RelatedNodeInfo(node_id='12efd64e-1924-4387-8253-7a9342370121', node_type=<ObjectType.TEXT: '1'>, metadata={}, hash='579ae474a7cc39ff8686baa7c45ccb25490056cc1da395db4e9bf532ff7ac2bf')}, text='Alexa LF digital cameras, with new filming locations and sets being used \"to avoid repetition.\" By October 2022, Chalamet had taken a break from filming in order to attend the premiere of Bones and All (2022). By the next month, production moved to Abu Dhabi, with Pugh also finishing her scenes in the same month. Certain scenes set at dawn had to be filmed across three days to take advantage of the golden hour. A special unit of production filmed scenes with Taylor-Joy in Namibia, the driest country in sub-Saharan Africa. Filming wrapped on December 12, 2022. Due to the delays, Villeneuve was able to make a film transfer for projection using the IMAX 70 mm and conventional 70 mm film formats.Pugh delivered Princess Irulan\\'s opening narration during her first day of filming and for overall production. Villeneuve and cinematographer Greig Fraser had filmed Feyd-Rautha\\'s gladiator sequence with specially designed black-and-white infrared cameras. They wanted the Harkonnens to cheer and stomp rather than applaud, and designed over 30 sections for spectators in the arena. Butler spent his first week on set filming the scene, during which the set had very high temperatures that caused some people to faint. He also improvised his kiss scene with the Baron. For romantic scenes between Paul and Chani, the scenes primarily filmed in remote locations in Jordan during the golden hour. The scenes were often filmed as quickly as possible, with only a one-hour window being available. The scene of Paul\\'s sandworm ride was filmed practically on a production unit separate from the main one, being led by producer Tanya Lapointe and a special team. Chalamet filmed his scenes on a platform meant to imitate a portion of the sandworm, with gripping devices serving as the reference for the Fremen hooks. An industrial fan blew sand on set to emulate the desert climate. Chalamet estimated the scene took over three months to film, with individual shoots occurring over a span of 20-30 minutes. As the actual sandworm was not built and there were no reference shots, the production team designed a small portion of the worm on set and the actors had to physically visualize and imitate riding the sandworm. Butler and Chalamet had separately trained with a Kali instructor in Los Angeles for the climactic battle between Paul and Feyd-Rautha. They were excited to do the scene, and immediately began practicing once they later met in Budapest. They performed the scene by themselves, including for wide camera shots, while Chalamet delivers the monologue entirely in Chakobsa. Ferguson had cited Lady Jessica undergoing the Reverend Mother process as her favorite scene, working with contortionists for the scene and comparing it to an Exorcist film.\\n\\n\\n== Music ==\\n\\nHans Zimmer returned to compose the film\\'s score after doing so for the previous film. Zimmer had composed over 90 minutes of music prior to the announcement of the film to help give Villeneuve inspiration when writing. Two singles were released on February 15, 2024, by WaterTower Music, titled \"A Time of Quiet Between the Storms\" and \"Harvester Attack\". The full soundtrack album was released on February 23.\\n\\n\\n== Marketing ==\\nA teaser trailer for Dune: Part Two was presented during the Warner Bros. panel at CinemaCon on April 27, 2023. First-look footage of the cast in-character were released online, alongside a teaser poster, on May 2, 2023. The trailer was released to the public the following day. Variety called it \"breathtaking\"; GQ hailed the shots of Paul riding a sandworm as \"the standout sequence\"; and Fangoria remarked \"If you\\'re not excited for this one, we dunno what to tell you\". Chalamet and Zendaya later discussed and promoted the film at a Warner Bros. presentation at CineEurope on June 21.A second trailer was released on June 29, 2023. Chris Evangelista of Film was excited about the appearance of Christopher Walken as Emperor Shaddam IV. Ben Travis of Empire praised the \"seismic\" and \"astounding, none-more-eye-boggling\" imagery, feeling the scope to be \"particularly expansive\" and noted the monochromatic footage depicting Austin Butler\\'s Feyd-Rautha while calling the footage of Christopher Walken\\'s appearance \"impactful\". Joshua Rivera of Polygon opined \"The trailer, simply put, rocks\" and enjoyed the footage present.The film was promoted during the December 2023 CCXP with Chalamet, Zendaya, Pugh, Butler, and Villeneuve, where over 10 minutes of footage was released. Additional footage from Dune: Part Two was shown during a limited IMAX theatrical re-release of Christopher Nolan\\'s Tenet (2020), as part of Warner Bros.\\' celebration for the former film\\'s release.In January 2024, images of a forthcoming Dune-themed', start_char_idx=17932, end_char_idx=22664, text_template='{metadata_str}\\n\\n{content}', metadata_template='{key}: {value}', metadata_seperator='\\n'),\n",
              " TextNode(id_='12efd64e-1924-4387-8253-7a9342370121', embedding=None, metadata={'title': 'Dune: Part Two'}, excluded_embed_metadata_keys=[], excluded_llm_metadata_keys=[], relationships={<NodeRelationship.SOURCE: '1'>: RelatedNodeInfo(node_id='63790171', node_type=<ObjectType.DOCUMENT: '4'>, metadata={}, hash='67004bace9b201004ac25753f3a51405d2e59e70064f82d21dc92d9baa625b6e'), <NodeRelationship.PREVIOUS: '2'>: RelatedNodeInfo(node_id='2006faac-293c-4dc7-a9f2-0eed1128c75e', node_type=<ObjectType.TEXT: '1'>, metadata={}, hash='64406c6456c5b0fc65bd7b75d00db23bdb71768e1486a41152b652ed047a72e2'), <NodeRelationship.NEXT: '3'>: RelatedNodeInfo(node_id='c0dd9e24-1665-47c1-9436-b0980ab0b198', node_type=<ObjectType.TEXT: '1'>, metadata={}, hash='6a71d24669ece48a8b89a955a77247e6433b3fb985e28384f99be03b9d014061')}, text='celebration for the former film\\'s release.In January 2024, images of a forthcoming Dune-themed popcorn bucket from AMC Theatres went viral and became an Internet meme due to comparisons of its sandworm design to an artificial vagina. Saturday Night Live featured a musical sketch with Marcello Hernandez, Ayo Edebiri, Devon Walker, and Bowen Yang parodying the phenomenon.Warner Bros. and Legendary Pictures partnered with Xbox to provide an immersive content suite related to the film, and visual designs inspired by the film being featured on a floating controller, Xbox Series X, and a console holder. Microsoft Flight Simulator also included an expansion pack allowing players to explore Arrakis and pilot the Royal Atreides Ornithopter. In November 2023, the Sardaukar were added to Call of Duty: Modern Warfare II (2022) in a collaboration pack. A month later, Paul and Feyd-Rautha were added as playable operators to its sequel, Call of Duty: Modern Warfare III (2023), with an additional Harkonnen soldier skin being announced in March 2024. In September 2023, McFarlane Toys announced a new line of 7-inch figures modeled after characters from the sequel film. Legendary Comics will release Dune: Part Two - The Official Movie Graphic Novel with the help of Kickstarter in the same way the previous adaptation was published.\\n\\n\\n== Release ==\\nDune: Part Two was originally scheduled to be released on October 20, 2023, but was delayed to November 17, 2023, before moving forward two weeks to November 3, 2023, to adjust to changes in release schedules from other studios. It was later postponed by over four months to March 15, 2024, due to the 2023 Hollywood labor disputes. After the strikes were resolved, the film moved once more up two weeks to March 1, 2024.Following the success of Oppenheimer (2023) in the format, Dune: Part Two was released in the IMAX 15-perforation 70 mm format to twelve venues worldwide, and in standard 5-perforation 70mm format to 38 venues worldwide. A red carpet event was hosted in the Auditorio Nacional in Mexico City on February 6, 2024. Dune: Part Two\\'s world premiere was held at Odeon Luxe Leicester Square in London on February 15.On January 16, 2024, the film was shown to a dying man in a palliative care home in the Canadian city of Saguenay, in Denis Villeneuve\\'s native province of Quebec. The man had expressed a wish to see Dune: Part Two before his death. Josée Gagnon, the cofounder of a company aiming to accompany people at the end of life, relayed his wish to Villeneuve and Tanya Lapointe, his partner and one of the film\\'s producers, through a viral call-out on Facebook. According to Gagnon, Villeneuve and Lapointe \"were very touched. They were saying that this is why they make cinema. For the guy who wants to see a film before he dies. It\\'s like a consecration\". The pair initially offered to invite the man to see Dune: Part Two in Los Angeles or Montreal, but since he was too weak to travel, Villeneuve eventually decided to send one of his assistants directly to Saguenay with his private laptop. The film was screened in a room of the care facility, where everyone was required to hand in their cellphones and sign waivers. The man was in too much pain, however, to watch it entirely and had to stop halfway through. The man eventually passed away on January 25. The incident, which CBC referred to as the actual \"world premiere\" of the film, was publicly disclosed after its theatrical release.\\n\\n\\n== Reception ==\\n\\n\\n=== Box office ===\\nAs of March 21, 2024, Dune: Part Two has grossed $213.6 million in the United States and Canada and $299 million in other territories, for a worldwide total of $512.6 million. The Hollywood Reporter estimated the film needed to gross around $500 million in order to break-even.In the United States and Canada, the film\\'s advanced ticket sales surpassed those of Oppenheimer, and it was projected to gross $65–80 million from 4,050 theaters in its opening weekend. It was also expected to gross $85–90 million from 71 international markets, for a worldwide debut of around $170 million. The film made $32.2 million on its first day, including $12 million from previews on February 25 and 29; IMAX screenings made up $4.5 million (38%) of the early totals. It went on to debut to $82.5 million, doubling the first film\\'s $41 million opening weekend; IMAX screenings made up $18.5 million (23%) of the', start_char_idx=22570, end_char_idx=26977, text_template='{metadata_str}\\n\\n{content}', metadata_template='{key}: {value}', metadata_seperator='\\n'),\n",
              " TextNode(id_='c0dd9e24-1665-47c1-9436-b0980ab0b198', embedding=None, metadata={'title': 'Dune: Part Two'}, excluded_embed_metadata_keys=[], excluded_llm_metadata_keys=[], relationships={<NodeRelationship.SOURCE: '1'>: RelatedNodeInfo(node_id='63790171', node_type=<ObjectType.DOCUMENT: '4'>, metadata={}, hash='67004bace9b201004ac25753f3a51405d2e59e70064f82d21dc92d9baa625b6e'), <NodeRelationship.PREVIOUS: '2'>: RelatedNodeInfo(node_id='12efd64e-1924-4387-8253-7a9342370121', node_type=<ObjectType.TEXT: '1'>, metadata={}, hash='579ae474a7cc39ff8686baa7c45ccb25490056cc1da395db4e9bf532ff7ac2bf'), <NodeRelationship.NEXT: '3'>: RelatedNodeInfo(node_id='e028644b-8dfa-4a0f-8620-68818d39ed71', node_type=<ObjectType.TEXT: '1'>, metadata={}, hash='549b94cc33181ce49961453e4f1fbd3ab466b5801347dfffba68b157415fb434')}, text='million opening weekend; IMAX screenings made up $18.5 million (23%) of the total, a record for a March release. According to Jeff Goldstein, president of domestic distribution at Warner Bros., it was \"much higher than any of us could predict,\" especially for \"a genre that is a hard nut to crack.\" The film also made $100.02 million from 72 international markets in its opening weekend, bringing its worldwide three-day debut to $182.5 million. In its second weekend the film made $46 million (a 44% drop), finishing second behind newcomer Kung Fu Panda 4. It also surpassed the entire domestic gross of the first film ($108 million) in just seven days. The film made $28.5 million in its third weekend, remaining in second.\\n\\n\\n=== Critical response ===\\nThe film \"largely received rave reviews from critics\", and was praised for its visual effects and cast performances. Some reviews considered it one of the best science fiction films. On the review aggregator website Rotten Tomatoes, 93% of 400 critics\\' reviews are positive, with an average rating of 8.4/10. The website\\'s consensus reads: \"Visually thrilling and narratively epic, Dune: Part Two continues Denis Villeneuve\\'s adaptation of the beloved sci-fi series in spectacular form.\" Metacritic, which uses a weighted average, assigned the film a score of 79 out of 100, based on 62 critics, indicating \"generally favorable\" reviews. Audiences surveyed by CinemaScore gave the film an average grade of \"A\" on an A+ to F scale, while those polled by PostTrak gave it a 94% overall positive score, with 80% saying they would definitely recommend it.The Telegraph\\'s Robbie Collin awarded the film four stars out of five and praised its visuals: \"Dune\\'s loose-endedness is one of its best qualities: finding out what happens is secondary to just seeing it unfold.\" Peter Bradshaw, chief film critic for The Guardian, awarded the film four stars out of five, writing \"Denis Villeneuve\\'s monumental adaptation expands its extraordinary world of shimmering strangeness. It\\'s impossible to imagine anyone doing it better.\" Richard Roeper, writing for The Chicago Sun-Times, gave the film three stars out of four, praising the technical and narrative aspects, saying, \"Even as we marvel at the stunning and immersive and Oscar-level cinematography, editing, score, visual effects, production design and sound in Denis Villeneuve\\'s Dune: Part Two, we\\'re reminded at every turn that this is an absolutely bat-bleep  [sic] crazy story.\"Other reviews were more mixed in their judgement. In The Hollywood Reporter, Lovia Gyarkye praised the film\\'s technical aspects and performances, but found it failed to fully adapt the book\\'s nuance on themes such as imperialism. Nicholas Barber wrote for the BBC that the film is \"one of the most jaw-droppingly weird pieces of art-house psychedelia ever to come from a major studio\", finding the film\\'s grand scale made up for its issues. At the more negative end, Noah Berlatsky writing for CNN judged that the film had failed to \"present an effective anti-colonial vision\" by still being centred around Paul\\'s destiny despite an increased voice of opposition from Chani.Furvah Shah, writing for Cosmopolitan UK, said she \"felt frustrated as a Muslim viewer\", criticising the film for a lack of Middle East and North African (MENA) casting amongst the leads despite the use of the region\\'s culture and superficial use of Islam. The New Arab\\'s Hannah Flint also criticized the use of Arab and Islamic cultural items and lack of MENA casting, though did praise that of Swiss-Tunisian actress Souheila Yacoub as a \"win for Arab representation\". Steven D. Greydanus, in U.S. Catholic, gives a contrasting view of the film\\'s religious inspirations, noting that the film draws from a number of Abrahamic religions for the purpose of critiquing faith itself, while also noting the \"spiritualization of ecological concerns\" through the Fremen.\\n\\n\\n=== Accolades ===\\nThe trailer for Dune: Part Two received nominations for Best Fantasy Adventure and the Don LaFontaine Award for Best Voice Over at the 2023 Golden Trailer Awards. The film was nominated for Most Anticipated Film at the 6th Hollywood Critics Association Midseason Film Awards.\\n\\n\\n== Future ==\\nVilleneuve has repeatedly expressed interest in making a third film based on Dune Messiah, the second novel in the series, adding that the possibility for the film depended on the success of Dune: Part Two. Spaihts also reiterated in March 2022 that Villeneuve had plans for a third film as well as the television spin-off series Dune: Prophecy. In August 2023, Villeneuve said the third film would serve as the conclusion', start_char_idx=26902, end_char_idx=31556, text_template='{metadata_str}\\n\\n{content}', metadata_template='{key}: {value}', metadata_seperator='\\n'),\n",
              " TextNode(id_='e028644b-8dfa-4a0f-8620-68818d39ed71', embedding=None, metadata={'title': 'Dune: Part Two'}, excluded_embed_metadata_keys=[], excluded_llm_metadata_keys=[], relationships={<NodeRelationship.SOURCE: '1'>: RelatedNodeInfo(node_id='63790171', node_type=<ObjectType.DOCUMENT: '4'>, metadata={}, hash='67004bace9b201004ac25753f3a51405d2e59e70064f82d21dc92d9baa625b6e'), <NodeRelationship.PREVIOUS: '2'>: RelatedNodeInfo(node_id='c0dd9e24-1665-47c1-9436-b0980ab0b198', node_type=<ObjectType.TEXT: '1'>, metadata={}, hash='6a71d24669ece48a8b89a955a77247e6433b3fb985e28384f99be03b9d014061')}, text='In August 2023, Villeneuve said the third film would serve as the conclusion of a trilogy. Villeneuve began developing a script for the third film in 2023. In February 2024, Villeneuve said the script was \"almost finished\" but also said he \"[does not] want to rush it\", citing Hollywood\\'s tendency of focusing on release dates over a film\\'s overall quality, and adding, \"I want to make sure that if we go back there a third time that it\\'ll be worth it, and that it would make something even better than Part Two\". Villeneuve also considered waiting a few years for the lead actor to grow older, given that Dune Messiah is set 12 years after the events of the original book.Ahead of Dune: Part Two\\'s release, Zimmer revealed he was already writing music for a third film after Villeneuve came in and \"wordlessly\" put Dune Messiah on his desk.\\n\\n\\n== References ==\\n\\n\\n== Further reading ==\\n\\n\\n== External links ==\\nOfficial website \\nDune: Part Two at IMDb', start_char_idx=31480, end_char_idx=32428, text_template='{metadata_str}\\n\\n{content}', metadata_template='{key}: {value}', metadata_seperator='\\n')]"
            ]
          },
          "execution_count": 34,
          "metadata": {},
          "output_type": "execute_result"
        }
      ],
      "source": [
        "nodes"
      ]
    },
    {
      "cell_type": "code",
      "execution_count": 23,
      "metadata": {},
      "outputs": [
        {
          "data": {
            "text/plain": [
              "'{key}: {value}'"
            ]
          },
          "execution_count": 23,
          "metadata": {},
          "output_type": "execute_result"
        }
      ],
      "source": [
        "nodes[0].metadata_template"
      ]
    },
    {
      "cell_type": "markdown",
      "metadata": {
        "id": "Sfbon1BwSLFS"
      },
      "source": [
        "### Persisting and Loading Stored Index with Weights and Biases\n",
        "\n",
        "Now we can utilize a powerful feature of Weights and Biases - index and artifact versioning!\n",
        "\n",
        "We can persist our index to WandB to be used and loaded later!"
      ]
    },
    {
      "cell_type": "code",
      "execution_count": 30,
      "metadata": {
        "colab": {
          "base_uri": "https://localhost:8080/"
        },
        "id": "PHJd00J3G48_",
        "outputId": "daead28f-68f4-4f98-b417-3552ad986839"
      },
      "outputs": [
        {
          "name": "stderr",
          "output_type": "stream",
          "text": [
            "\u001b[34m\u001b[1mwandb\u001b[0m: Adding directory to artifact (/Users/dipeshsingh/D/projects/aim_class_llm/assignment8/wandb/run-20240323_110655-cdlt4sca/files/storage)... Done. 0.0s\n"
          ]
        }
      ],
      "source": [
        "wandb_callback.persist_index(index, index_name=\"dune-index-chromadb\")"
      ]
    },
    {
      "cell_type": "markdown",
      "metadata": {
        "id": "jvpHLt8UShKa"
      },
      "source": [
        "Now we can load our index from WandB, which is a truly powerful tool!"
      ]
    },
    {
      "cell_type": "code",
      "execution_count": 33,
      "metadata": {
        "colab": {
          "base_uri": "https://localhost:8080/"
        },
        "id": "FDZLmqTDHDrZ",
        "outputId": "ade0c7d2-841e-4a50-e296-0f71b45dc1b2"
      },
      "outputs": [
        {
          "name": "stderr",
          "output_type": "stream",
          "text": [
            "\u001b[34m\u001b[1mwandb\u001b[0m:   4 of 4 files downloaded.  \n"
          ]
        }
      ],
      "source": [
        "from llama_index.core import load_index_from_storage\n",
        "\n",
        "storage_context = wandb_callback.load_storage_context(\n",
        "    artifact_url=\"dipeshtech/aie1-llama-index-demo/dune-index-chromadb:latest\"\n",
        ")"
      ]
    },
    {
      "cell_type": "markdown",
      "metadata": {
        "id": "G0pwSiOxUYCE"
      },
      "source": [
        "####❓ Question #2:\n",
        "\n",
        "Provide a screenshot of your index version history as shown in WandB.\n",
        "\n",
        "Wand DB index version: ![image](images/wandb_index.png)\n"
      ]
    },
    {
      "cell_type": "code",
      "execution_count": null,
      "metadata": {},
      "outputs": [],
      "source": []
    },
    {
      "cell_type": "markdown",
      "metadata": {
        "id": "YUa5sHMsSV__"
      },
      "source": [
        "### Auto Retriever Functional Tool\n",
        "\n",
        "This tool will leverage OpenAI's functional endpoint to select the correct metadata filter and query the filtered index - only looking at nodes with the desired metadata.\n",
        "\n",
        "A simplified diagram: ![image](https://i.imgur.com/AICDPav.png)"
      ]
    },
    {
      "cell_type": "markdown",
      "metadata": {
        "id": "Z2HQHY3pSV__"
      },
      "source": [
        "First, we need to create our `VectoreStoreInfo` object which will hold all the relevant metadata we need for each component (in this case title metadata).\n",
        "\n",
        "Notice that you need to include it in a text list."
      ]
    },
    {
      "cell_type": "code",
      "execution_count": 37,
      "metadata": {
        "id": "KoAYxbdsSV__"
      },
      "outputs": [],
      "source": [
        "from llama_index.core.tools import FunctionTool\n",
        "from llama_index.core.vector_stores.types import (\n",
        "    VectorStoreInfo,\n",
        "    MetadataInfo,\n",
        "    ExactMatchFilter,\n",
        "    MetadataFilters,\n",
        ")\n",
        "from llama_index.core.retrievers import VectorIndexRetriever\n",
        "from llama_index.core.query_engine import RetrieverQueryEngine\n",
        "\n",
        "from typing import List, Tuple, Any\n",
        "from pydantic import BaseModel, Field\n",
        "\n",
        "top_k = 3\n",
        "\n",
        "vector_store_info = VectorStoreInfo(\n",
        "    content_info=\"semantic information about movies\",\n",
        "    metadata_info=[MetadataInfo(\n",
        "        name=\"title\",\n",
        "        type=\"str\",\n",
        "        description=\"title of the movie, one of ['Dune (2021 film)', 'Dune: Part 2']\",\n",
        "    )]\n",
        ")"
      ]
    },
    {
      "cell_type": "markdown",
      "metadata": {
        "id": "NEjK7jcsSV__"
      },
      "source": [
        "Now we'll create our base PyDantic object that we can use to ensure compatability with our application layer. This verifies that the response from the OpenAI endpoint conforms to this schema."
      ]
    },
    {
      "cell_type": "code",
      "execution_count": 38,
      "metadata": {
        "id": "yixkwF8zSV__"
      },
      "outputs": [],
      "source": [
        "class AutoRetrieveModel(BaseModel):\n",
        "    query: str = Field(..., description=\"natural language query string\")\n",
        "    filter_key_list: List[str] = Field(\n",
        "        ..., description=\"List of metadata filter field names\"\n",
        "    )\n",
        "    filter_value_list: List[str] = Field(\n",
        "        ...,\n",
        "        description=(\n",
        "            \"List of metadata filter field values (corresponding to names specified in filter_key_list)\"\n",
        "        )\n",
        "    )"
      ]
    },
    {
      "cell_type": "markdown",
      "metadata": {
        "id": "Ep6ORS3FSV__"
      },
      "source": [
        "Now we can build our function that we will use to query the functional endpoint."
      ]
    },
    {
      "cell_type": "code",
      "execution_count": 40,
      "metadata": {
        "id": "y8sPThxlSV__"
      },
      "outputs": [],
      "source": [
        "def auto_retrieve_fn(\n",
        "    query: str, filter_key_list: List[str], filter_value_list: List[str]\n",
        "):\n",
        "    \"\"\"Auto retrieval function.\n",
        "\n",
        "    Performs auto-retrieval from a vector database, and then applies a set of filters.\n",
        "\n",
        "    \"\"\"\n",
        "    query = query or \"Query\"\n",
        "\n",
        "    exact_match_filters = [\n",
        "        ExactMatchFilter(key=k, value=v)\n",
        "        for k, v in zip(filter_key_list, filter_value_list)\n",
        "    ]\n",
        "    retriever = VectorIndexRetriever(\n",
        "        index, filters=MetadataFilters(filters=exact_match_filters), top_k=top_k\n",
        "    )\n",
        "    query_engine = RetrieverQueryEngine.from_args(retriever)\n",
        "\n",
        "    response = query_engine.query(query)\n",
        "    return str(response)"
      ]
    },
    {
      "cell_type": "markdown",
      "metadata": {
        "id": "Yt4BV6oISV__"
      },
      "source": [
        "Now we need to wrap our system in a tool in order to integrate it into the larger application.\n",
        "\n",
        "Source Code Here:\n",
        "- [`FunctionTool`](https://github.com/jerryjliu/llama_index/blob/d24767b0812ac56104497d8f59095eccbe9f2b08/llama_index/tools/function_tool.py#L21)"
      ]
    },
    {
      "cell_type": "code",
      "execution_count": 41,
      "metadata": {
        "id": "U4lS1NqeSV__"
      },
      "outputs": [],
      "source": [
        "description = f\"\"\"\\\n",
        "Use this tool to look up semantic information about films.\n",
        "The vector database schema is given below:\n",
        "{vector_store_info.json()}\n",
        "\"\"\"\n",
        "\n",
        "auto_retrieve_tool = FunctionTool.from_defaults(\n",
        "    fn=auto_retrieve_fn,\n",
        "    name=\"semantic-film-info\",\n",
        "    description=description,\n",
        "    fn_schema=AutoRetrieveModel\n",
        ")"
      ]
    },
    {
      "cell_type": "markdown",
      "metadata": {
        "id": "9YkXmlexUnP_"
      },
      "source": [
        "####❓ Question #3:\n",
        "\n",
        "Is the text in the description of our `FunctionTool` important or not? Please explain your answer.\n",
        "\n",
        "#### Dipesh's answer:\n",
        "This is definetely important, as this information is presented to LLM. The FunctionTool code uses docstring and desciption as a part of ToolMetadata object."
      ]
    },
    {
      "cell_type": "markdown",
      "metadata": {
        "id": "ZblimmXVSV__"
      },
      "source": [
        "All that's left to do is attach the tool to an OpenAIAgent and let it rip!\n",
        "\n",
        "Source Code Here:\n",
        "- [`OpenAIAgent`](https://github.com/jerryjliu/llama_index/blob/d24767b0812ac56104497d8f59095eccbe9f2b08/llama_index/agent/openai_agent.py#L361)"
      ]
    },
    {
      "cell_type": "code",
      "execution_count": 42,
      "metadata": {
        "id": "W2hafCTxSV__"
      },
      "outputs": [],
      "source": [
        "from llama_index.agent.openai import OpenAIAgent\n",
        "\n",
        "agent = OpenAIAgent.from_tools(\n",
        "    tools=[auto_retrieve_tool],\n",
        "    verbose=True,\n",
        ")"
      ]
    },
    {
      "cell_type": "code",
      "execution_count": 43,
      "metadata": {
        "colab": {
          "base_uri": "https://localhost:8080/"
        },
        "id": "DBJWDBK5SV__",
        "outputId": "89542691-c922-44cc-9663-90a372df4837"
      },
      "outputs": [
        {
          "name": "stdout",
          "output_type": "stream",
          "text": [
            "Added user message to memory: Who starred in the 2021 film?\n",
            "INFO:httpx:HTTP Request: POST https://api.openai.com/v1/chat/completions \"HTTP/1.1 200 OK\"\n",
            "HTTP Request: POST https://api.openai.com/v1/chat/completions \"HTTP/1.1 200 OK\"\n",
            "HTTP Request: POST https://api.openai.com/v1/chat/completions \"HTTP/1.1 200 OK\"\n",
            "=== Calling Function ===\n",
            "Calling function: semantic-film-info with args: {\"query\":\"cast of Dune (2021 film)\",\"filter_key_list\":[\"title\"],\"filter_value_list\":[\"Dune (2021 film)\"]}\n",
            "INFO:httpx:HTTP Request: POST https://api.openai.com/v1/embeddings \"HTTP/1.1 200 OK\"\n",
            "HTTP Request: POST https://api.openai.com/v1/embeddings \"HTTP/1.1 200 OK\"\n",
            "HTTP Request: POST https://api.openai.com/v1/embeddings \"HTTP/1.1 200 OK\"\n",
            "INFO:httpx:HTTP Request: POST https://api.openai.com/v1/chat/completions \"HTTP/1.1 200 OK\"\n",
            "HTTP Request: POST https://api.openai.com/v1/chat/completions \"HTTP/1.1 200 OK\"\n",
            "HTTP Request: POST https://api.openai.com/v1/chat/completions \"HTTP/1.1 200 OK\"\n",
            "Got output: The cast of \"Dune\" (2021 film) includes Timothée Chalamet, Rebecca Ferguson, Oscar Isaac, Josh Brolin, Stellan Skarsgård, Dave Bautista, Stephen McKinley Henderson, Zendaya, Chang Chen, Sharon Duncan-Brewster, Charlotte Rampling, Jason Momoa, and Javier Bardem. Anya Taylor-Joy makes an uncredited cameo appearance as Alia Atreides, Babs Olusanmokun and Roger Yuan reprise their roles, and Stephen McKinley Henderson and Tim Blake Nelson filmed scenes that were not included in the final cut.\n",
            "========================\n",
            "\n",
            "INFO:httpx:HTTP Request: POST https://api.openai.com/v1/chat/completions \"HTTP/1.1 200 OK\"\n",
            "HTTP Request: POST https://api.openai.com/v1/chat/completions \"HTTP/1.1 200 OK\"\n",
            "HTTP Request: POST https://api.openai.com/v1/chat/completions \"HTTP/1.1 200 OK\"\n"
          ]
        },
        {
          "name": "stderr",
          "output_type": "stream",
          "text": [
            "\u001b[34m\u001b[1mwandb\u001b[0m: Logged trace tree to W&B.\n"
          ]
        },
        {
          "name": "stdout",
          "output_type": "stream",
          "text": [
            "The cast of the 2021 film \"Dune\" includes Timothée Chalamet, Rebecca Ferguson, Oscar Isaac, Josh Brolin, Stellan Skarsgård, Dave Bautista, Stephen McKinley Henderson, Zendaya, Chang Chen, Sharon Duncan-Brewster, Charlotte Rampling, Jason Momoa, and Javier Bardem. Anya Taylor-Joy also makes an uncredited cameo appearance in the film.\n"
          ]
        }
      ],
      "source": [
        "response = agent.chat(\"Who starred in the 2021 film?\")\n",
        "print(str(response))"
      ]
    },
    {
      "cell_type": "markdown",
      "metadata": {
        "id": "kbhAT68RSvnT"
      },
      "source": [
        "# 🤝 Breakout Room #2"
      ]
    },
    {
      "cell_type": "markdown",
      "metadata": {
        "id": "yJcJL7VXSV__"
      },
      "source": [
        "## Task 1: Quantitative RAG Pipeline with NL2SQL Tooling\n",
        "\n",
        "We'll walk through the steps of creating a natural language to SQL system in the following section.\n",
        "\n",
        "> NOTICE: This does not have parsing on the inputs or intermediary calls to ensure that users are using safe SQL queries. Use this with caution in a production environment without adding specific guardrails from either side of the application."
      ]
    },
    {
      "cell_type": "markdown",
      "metadata": {
        "id": "SsVcM0-4SV__"
      },
      "source": [
        "The next few steps should be largely straightforward, we'll want to:\n",
        "\n",
        "1. Read in our `.csv` files into `pd.DataFrame` objects\n",
        "2. Create an in-memory `sqlite` powered `sqlalchemy` engine\n",
        "3. Cast our `pd.DataFrame` objects to the SQL engine\n",
        "4. Create an `SQLDatabase` object through LlamaIndex\n",
        "5. Use that to create a `QueryEngineTool` that we can interact with through the `NLSQLTableQueryEngine`!\n",
        "\n",
        "If you get stuck, please consult the documentation."
      ]
    },
    {
      "cell_type": "code",
      "execution_count": 47,
      "metadata": {
        "colab": {
          "base_uri": "https://localhost:8080/"
        },
        "id": "WwWOygTqlNBh",
        "outputId": "86b0a67f-3fc0-45ae-8afe-889d85903ef0"
      },
      "outputs": [
        {
          "name": "stdout",
          "output_type": "stream",
          "text": [
            "--2024-03-23 12:11:16--  https://raw.githubusercontent.com/AI-Maker-Space/DataRepository/main/dune1.csv\n",
            "Resolving raw.githubusercontent.com (raw.githubusercontent.com)... 185.199.109.133, 185.199.110.133, 185.199.108.133, ...\n",
            "Connecting to raw.githubusercontent.com (raw.githubusercontent.com)|185.199.109.133|:443... connected.\n",
            "HTTP request sent, awaiting response... 200 OK\n",
            "Length: 133391 (130K) [text/plain]\n",
            "Saving to: ‘dune1.csv’\n",
            "\n",
            "dune1.csv           100%[===================>] 130.26K  --.-KB/s    in 0.02s   \n",
            "\n",
            "2024-03-23 12:11:16 (5.62 MB/s) - ‘dune1.csv’ saved [133391/133391]\n",
            "\n"
          ]
        }
      ],
      "source": [
        "!wget https://raw.githubusercontent.com/AI-Maker-Space/DataRepository/main/dune1.csv"
      ]
    },
    {
      "cell_type": "code",
      "execution_count": 48,
      "metadata": {
        "colab": {
          "base_uri": "https://localhost:8080/"
        },
        "id": "TD_9LPL9lTlG",
        "outputId": "b99f4c30-ae9b-4323-a102-9d4f39c36f2c"
      },
      "outputs": [
        {
          "name": "stdout",
          "output_type": "stream",
          "text": [
            "--2024-03-23 12:11:19--  https://raw.githubusercontent.com/AI-Maker-Space/DataRepository/main/dune2.csv\n",
            "Resolving raw.githubusercontent.com (raw.githubusercontent.com)... 185.199.109.133, 185.199.110.133, 185.199.108.133, ...\n",
            "Connecting to raw.githubusercontent.com (raw.githubusercontent.com)|185.199.109.133|:443... connected.\n",
            "HTTP request sent, awaiting response... 200 OK\n",
            "Length: 111843 (109K) [text/plain]\n",
            "Saving to: ‘dune2.csv’\n",
            "\n",
            "dune2.csv           100%[===================>] 109.22K  --.-KB/s    in 0.02s   \n",
            "\n",
            "2024-03-23 12:11:20 (6.26 MB/s) - ‘dune2.csv’ saved [111843/111843]\n",
            "\n"
          ]
        }
      ],
      "source": [
        "!wget https://raw.githubusercontent.com/AI-Maker-Space/DataRepository/main/dune2.csv"
      ]
    },
    {
      "cell_type": "markdown",
      "metadata": {
        "id": "8PUg-ZuTSWAC"
      },
      "source": [
        "#### Read `.csv` Into Pandas"
      ]
    },
    {
      "cell_type": "code",
      "execution_count": 49,
      "metadata": {
        "id": "52Hd8PM4SWAC"
      },
      "outputs": [],
      "source": [
        "import pandas as pd\n",
        "\n",
        "dune1_df = pd.read_csv(\"./dune1.csv\")\n",
        "dune2_df = pd.read_csv(\"./dune2.csv\")"
      ]
    },
    {
      "cell_type": "code",
      "execution_count": 55,
      "metadata": {},
      "outputs": [
        {
          "data": {
            "text/html": [
              "<div>\n",
              "<style scoped>\n",
              "    .dataframe tbody tr th:only-of-type {\n",
              "        vertical-align: middle;\n",
              "    }\n",
              "\n",
              "    .dataframe tbody tr th {\n",
              "        vertical-align: top;\n",
              "    }\n",
              "\n",
              "    .dataframe thead th {\n",
              "        text-align: right;\n",
              "    }\n",
              "</style>\n",
              "<table border=\"1\" class=\"dataframe\">\n",
              "  <thead>\n",
              "    <tr style=\"text-align: right;\">\n",
              "      <th></th>\n",
              "      <th>Unnamed: 0</th>\n",
              "      <th>Review_Date</th>\n",
              "      <th>Author</th>\n",
              "      <th>Rating</th>\n",
              "      <th>Review_Title</th>\n",
              "      <th>Review</th>\n",
              "      <th>Review_Url</th>\n",
              "    </tr>\n",
              "  </thead>\n",
              "  <tbody>\n",
              "    <tr>\n",
              "      <th>0</th>\n",
              "      <td>0</td>\n",
              "      <td>13 September 2021</td>\n",
              "      <td>FabledGentleman</td>\n",
              "      <td>9.0</td>\n",
              "      <td>DUNE - A Great Modern Sci-Fi\\n</td>\n",
              "      <td>Denis Villeneuve has accomplished what was con...</td>\n",
              "      <td>/review/rw7338282/?ref_=tt_urv</td>\n",
              "    </tr>\n",
              "    <tr>\n",
              "      <th>1</th>\n",
              "      <td>1</td>\n",
              "      <td>23 October 2021</td>\n",
              "      <td>Sleepin_Dragon</td>\n",
              "      <td>10.0</td>\n",
              "      <td>My movie of 2021, so far.\\n</td>\n",
              "      <td>It's been amazing being back in cinemas after ...</td>\n",
              "      <td>/review/rw7475243/?ref_=tt_urv</td>\n",
              "    </tr>\n",
              "    <tr>\n",
              "      <th>2</th>\n",
              "      <td>2</td>\n",
              "      <td>22 October 2021</td>\n",
              "      <td>classicsoncall</td>\n",
              "      <td>9.0</td>\n",
              "      <td>\"He shall know your ways as though born to th...</td>\n",
              "      <td>It's been some time since I've read the Frank ...</td>\n",
              "      <td>/review/rw7469852/?ref_=tt_urv</td>\n",
              "    </tr>\n",
              "    <tr>\n",
              "      <th>3</th>\n",
              "      <td>3</td>\n",
              "      <td>17 September 2021</td>\n",
              "      <td>851222</td>\n",
              "      <td>8.0</td>\n",
              "      <td>Amazing cinematic experience\\n</td>\n",
              "      <td>Greetings from Lithuania.</td>\n",
              "      <td>/review/rw7353830/?ref_=tt_urv</td>\n",
              "    </tr>\n",
              "    <tr>\n",
              "      <th>4</th>\n",
              "      <td>4</td>\n",
              "      <td>22 October 2021</td>\n",
              "      <td>Hitchcoc</td>\n",
              "      <td>8.0</td>\n",
              "      <td>The Beginning\\n</td>\n",
              "      <td>Having read the book a hundred years ago, it t...</td>\n",
              "      <td>/review/rw7468495/?ref_=tt_urv</td>\n",
              "    </tr>\n",
              "  </tbody>\n",
              "</table>\n",
              "</div>"
            ],
            "text/plain": [
              "   Unnamed: 0        Review_Date           Author  Rating  \\\n",
              "0           0  13 September 2021  FabledGentleman     9.0   \n",
              "1           1    23 October 2021   Sleepin_Dragon    10.0   \n",
              "2           2    22 October 2021   classicsoncall     9.0   \n",
              "3           3  17 September 2021           851222     8.0   \n",
              "4           4    22 October 2021         Hitchcoc     8.0   \n",
              "\n",
              "                                        Review_Title  \\\n",
              "0                     DUNE - A Great Modern Sci-Fi\\n   \n",
              "1                        My movie of 2021, so far.\\n   \n",
              "2   \"He shall know your ways as though born to th...   \n",
              "3                     Amazing cinematic experience\\n   \n",
              "4                                    The Beginning\\n   \n",
              "\n",
              "                                              Review  \\\n",
              "0  Denis Villeneuve has accomplished what was con...   \n",
              "1  It's been amazing being back in cinemas after ...   \n",
              "2  It's been some time since I've read the Frank ...   \n",
              "3                          Greetings from Lithuania.   \n",
              "4  Having read the book a hundred years ago, it t...   \n",
              "\n",
              "                       Review_Url  \n",
              "0  /review/rw7338282/?ref_=tt_urv  \n",
              "1  /review/rw7475243/?ref_=tt_urv  \n",
              "2  /review/rw7469852/?ref_=tt_urv  \n",
              "3  /review/rw7353830/?ref_=tt_urv  \n",
              "4  /review/rw7468495/?ref_=tt_urv  "
            ]
          },
          "execution_count": 55,
          "metadata": {},
          "output_type": "execute_result"
        }
      ],
      "source": [
        "dune1_df.head()"
      ]
    },
    {
      "cell_type": "code",
      "execution_count": 56,
      "metadata": {},
      "outputs": [
        {
          "data": {
            "text/html": [
              "<div>\n",
              "<style scoped>\n",
              "    .dataframe tbody tr th:only-of-type {\n",
              "        vertical-align: middle;\n",
              "    }\n",
              "\n",
              "    .dataframe tbody tr th {\n",
              "        vertical-align: top;\n",
              "    }\n",
              "\n",
              "    .dataframe thead th {\n",
              "        text-align: right;\n",
              "    }\n",
              "</style>\n",
              "<table border=\"1\" class=\"dataframe\">\n",
              "  <thead>\n",
              "    <tr style=\"text-align: right;\">\n",
              "      <th></th>\n",
              "      <th>Unnamed: 0</th>\n",
              "      <th>Review_Date</th>\n",
              "      <th>Author</th>\n",
              "      <th>Rating</th>\n",
              "      <th>Review_Title</th>\n",
              "      <th>Review</th>\n",
              "      <th>Review_Url</th>\n",
              "    </tr>\n",
              "  </thead>\n",
              "  <tbody>\n",
              "    <tr>\n",
              "      <th>0</th>\n",
              "      <td>0</td>\n",
              "      <td>26 February 2024</td>\n",
              "      <td>her5066</td>\n",
              "      <td>10.0</td>\n",
              "      <td>This is what Hollywood needs!\\n</td>\n",
              "      <td>This is what Hollywood needs. A great story wi...</td>\n",
              "      <td>/review/rw9644312/?ref_=tt_urv</td>\n",
              "    </tr>\n",
              "    <tr>\n",
              "      <th>1</th>\n",
              "      <td>1</td>\n",
              "      <td>26 February 2024</td>\n",
              "      <td>AfricanBro</td>\n",
              "      <td>9.0</td>\n",
              "      <td>Long live the fighters\\n</td>\n",
              "      <td>Phenomenal stuff. I'll probably calm down tomo...</td>\n",
              "      <td>/review/rw9644281/?ref_=tt_urv</td>\n",
              "    </tr>\n",
              "    <tr>\n",
              "      <th>2</th>\n",
              "      <td>2</td>\n",
              "      <td>28 February 2024</td>\n",
              "      <td>and_mikkelsen</td>\n",
              "      <td>10.0</td>\n",
              "      <td>Ladies and gentleman.. the PEAK of filmmaking...</td>\n",
              "      <td>This is the kind of movie that is impossible t...</td>\n",
              "      <td>/review/rw9648301/?ref_=tt_urv</td>\n",
              "    </tr>\n",
              "    <tr>\n",
              "      <th>3</th>\n",
              "      <td>3</td>\n",
              "      <td>4 March 2024</td>\n",
              "      <td>HalBanksy</td>\n",
              "      <td>10.0</td>\n",
              "      <td>Arrakis is Real. Believe Me I've Seen It.\\n</td>\n",
              "      <td>A monumental piece of cinema. And combined wit...</td>\n",
              "      <td>/review/rw9658700/?ref_=tt_urv</td>\n",
              "    </tr>\n",
              "    <tr>\n",
              "      <th>4</th>\n",
              "      <td>4</td>\n",
              "      <td>26 February 2024</td>\n",
              "      <td>Dvir971</td>\n",
              "      <td>10.0</td>\n",
              "      <td>The Sci-Fi/Fantasy Epic of our Generation\\n</td>\n",
              "      <td>Had the pleasure to watch this film in an earl...</td>\n",
              "      <td>/review/rw9643975/?ref_=tt_urv</td>\n",
              "    </tr>\n",
              "  </tbody>\n",
              "</table>\n",
              "</div>"
            ],
            "text/plain": [
              "   Unnamed: 0       Review_Date         Author  Rating  \\\n",
              "0           0  26 February 2024        her5066    10.0   \n",
              "1           1  26 February 2024     AfricanBro     9.0   \n",
              "2           2  28 February 2024  and_mikkelsen    10.0   \n",
              "3           3      4 March 2024      HalBanksy    10.0   \n",
              "4           4  26 February 2024        Dvir971    10.0   \n",
              "\n",
              "                                        Review_Title  \\\n",
              "0                    This is what Hollywood needs!\\n   \n",
              "1                           Long live the fighters\\n   \n",
              "2   Ladies and gentleman.. the PEAK of filmmaking...   \n",
              "3        Arrakis is Real. Believe Me I've Seen It.\\n   \n",
              "4        The Sci-Fi/Fantasy Epic of our Generation\\n   \n",
              "\n",
              "                                              Review  \\\n",
              "0  This is what Hollywood needs. A great story wi...   \n",
              "1  Phenomenal stuff. I'll probably calm down tomo...   \n",
              "2  This is the kind of movie that is impossible t...   \n",
              "3  A monumental piece of cinema. And combined wit...   \n",
              "4  Had the pleasure to watch this film in an earl...   \n",
              "\n",
              "                       Review_Url  \n",
              "0  /review/rw9644312/?ref_=tt_urv  \n",
              "1  /review/rw9644281/?ref_=tt_urv  \n",
              "2  /review/rw9648301/?ref_=tt_urv  \n",
              "3  /review/rw9658700/?ref_=tt_urv  \n",
              "4  /review/rw9643975/?ref_=tt_urv  "
            ]
          },
          "execution_count": 56,
          "metadata": {},
          "output_type": "execute_result"
        }
      ],
      "source": [
        "dune2_df.head()"
      ]
    },
    {
      "cell_type": "code",
      "execution_count": 58,
      "metadata": {},
      "outputs": [
        {
          "data": {
            "text/plain": [
              "Index(['Unnamed: 0', 'Review_Date', 'Author', 'Rating', 'Review_Title',\n",
              "       'Review', 'Review_Url'],\n",
              "      dtype='object')"
            ]
          },
          "execution_count": 58,
          "metadata": {},
          "output_type": "execute_result"
        }
      ],
      "source": [
        "dune2_df.columns"
      ]
    },
    {
      "cell_type": "markdown",
      "metadata": {
        "id": "fPTNyqmpSWAC"
      },
      "source": [
        "#### Create SQLAlchemy engine with SQLite"
      ]
    },
    {
      "cell_type": "code",
      "execution_count": 50,
      "metadata": {
        "id": "4lfuPKYBSWAC"
      },
      "outputs": [],
      "source": [
        "from sqlalchemy import create_engine\n",
        "\n",
        "engine = create_engine(\"sqlite+pysqlite:///:memory:\")"
      ]
    },
    {
      "cell_type": "markdown",
      "metadata": {
        "id": "iJiYiSuHSWAC"
      },
      "source": [
        "#### Convert `pd.DataFrame` to SQL tables"
      ]
    },
    {
      "cell_type": "code",
      "execution_count": 51,
      "metadata": {
        "colab": {
          "base_uri": "https://localhost:8080/"
        },
        "id": "W-96asUHSWAC",
        "outputId": "237d5720-fb5c-42b0-b5c8-a9a9023eeb80"
      },
      "outputs": [
        {
          "data": {
            "text/plain": [
              "274"
            ]
          },
          "execution_count": 51,
          "metadata": {},
          "output_type": "execute_result"
        }
      ],
      "source": [
        "dune1_df.to_sql(\n",
        "    \"Dune (2021 film)\",\n",
        "    engine\n",
        ")"
      ]
    },
    {
      "cell_type": "code",
      "execution_count": 52,
      "metadata": {
        "colab": {
          "base_uri": "https://localhost:8080/"
        },
        "id": "ZwOi1RE1SWAC",
        "outputId": "86bd0057-3086-4af5-db71-d8d7e1e64be1"
      },
      "outputs": [
        {
          "data": {
            "text/plain": [
              "175"
            ]
          },
          "execution_count": 52,
          "metadata": {},
          "output_type": "execute_result"
        }
      ],
      "source": [
        "dune2_df.to_sql(\n",
        "    \"Dune: Part 2\",\n",
        "    engine\n",
        ")"
      ]
    },
    {
      "cell_type": "markdown",
      "metadata": {
        "id": "pibA9qT7SWAC"
      },
      "source": [
        "#### Construct a `SQLDatabase` index\n",
        "\n",
        "Source Code Here:\n",
        "- [`SQLDatabase`](https://github.com/jerryjliu/llama_index/blob/d24767b0812ac56104497d8f59095eccbe9f2b08/llama_index/langchain_helpers/sql_wrapper.py#L9)"
      ]
    },
    {
      "cell_type": "code",
      "execution_count": 53,
      "metadata": {
        "id": "yeDYpR1LSWAD"
      },
      "outputs": [],
      "source": [
        "from llama_index.core import SQLDatabase\n",
        "\n",
        "sql_database = SQLDatabase(\n",
        "    engine=engine,\n",
        "    include_tables=[\"Dune (2021 film)\", \"Dune: Part 2\"]\n",
        ")"
      ]
    },
    {
      "cell_type": "markdown",
      "metadata": {
        "id": "-7VfZBenSWAD"
      },
      "source": [
        "#### Create the NLSQLTableQueryEngine interface for all added SQL tables\n",
        "\n",
        "Source Code Here:\n",
        "- [`NLSQLTableQueryEngine`](https://github.com/jerryjliu/llama_index/blob/d24767b0812ac56104497d8f59095eccbe9f2b08/llama_index/indices/struct_store/sql_query.py#L75C1-L75C1)"
      ]
    },
    {
      "cell_type": "code",
      "execution_count": 54,
      "metadata": {
        "id": "zQWSdMtrSWAD"
      },
      "outputs": [],
      "source": [
        "from llama_index.core.indices.struct_store.sql_query import NLSQLTableQueryEngine\n",
        "\n",
        "sql_query_engine = NLSQLTableQueryEngine(\n",
        "    sql_database=sql_database,\n",
        "    tables=[\"Dune (2021 film)\", \"Dune: Part 2\"],\n",
        ")"
      ]
    },
    {
      "cell_type": "markdown",
      "metadata": {
        "id": "yu8WfwuTSWAD"
      },
      "source": [
        "#### Wrap It All Up in a `QueryEngineTool`\n",
        "\n",
        "You'll want to ensure you have a descriptive...description.\n",
        "\n",
        "An example is provided here:\n",
        "\n",
        "```\n",
        "Useful for translating a natural language query into a SQL query over a table containing:\n",
        "John Wick 1, containing information related to reviews of the first John Wick movie, called John Wick\n",
        "John Wick 2, containing information related to reviews of the second John Wick movie, called John Wick: Chapter 2\n",
        "John Wick 3, containing information related to reviews of the third John Wick movie, called John Wick: Chatper 3 - Parabellum\n",
        "John Wick 4, containing information related to reviews of the fourth John Wick movie, called John Wick: Chatper 4\n",
        "```\n",
        "\n",
        "Sorce Code Here:\n",
        "\n",
        "- [`QueryEngineTool`](https://github.com/jerryjliu/llama_index/blob/d24767b0812ac56104497d8f59095eccbe9f2b08/llama_index/tools/query_engine.py#L13)"
      ]
    },
    {
      "cell_type": "markdown",
      "metadata": {
        "id": "yDB2m2dnU54L"
      },
      "source": [
        "####🏗️ Activity #1:\n",
        "\n",
        "Please write a Natural Language Description for the tables that we are using today."
      ]
    },
    {
      "cell_type": "code",
      "execution_count": null,
      "metadata": {
        "id": "4n567cXVVCtX"
      },
      "outputs": [],
      "source": [
        "DESCRIPTION = \"\"\"\\\n",
        "\n",
        "The Tables have the following columns and column descriptions:\n",
        "'Review_Date' : 'T', 'Author', 'Rating', 'Review_Title',\n",
        "       'Review', 'Review_Url'\n",
        "    \n",
        "    \n",
        "\"\"\""
      ]
    },
    {
      "cell_type": "code",
      "execution_count": null,
      "metadata": {
        "id": "y-mmcBbLSWAD"
      },
      "outputs": [],
      "source": [
        "from llama_index.core.tools.query_engine import QueryEngineTool\n",
        "\n",
        "sql_tool = QueryEngineTool.from_defaults(\n",
        "    query_engine=sql_query_engine,\n",
        "    name=\"sql-query\",\n",
        "    description=DESCRIPTION,\n",
        ")"
      ]
    },
    {
      "cell_type": "code",
      "execution_count": null,
      "metadata": {
        "id": "feOrlq4XSWAD"
      },
      "outputs": [],
      "source": [
        "agent = OpenAIAgent.from_tools(\n",
        "    tools=[sql_tool],\n",
        "    verbose=True\n",
        ")"
      ]
    },
    {
      "cell_type": "code",
      "execution_count": null,
      "metadata": {
        "colab": {
          "base_uri": "https://localhost:8080/",
          "height": 138
        },
        "id": "iT4G6stBSWAD",
        "outputId": "fc90e9c7-2484-4a6b-c274-cd9407b4fa6b"
      },
      "outputs": [
        {
          "name": "stdout",
          "output_type": "stream",
          "text": [
            "Added user message to memory: What is the average rating of the 2nd Dune movie?\n",
            "=== Calling Function ===\n",
            "Calling function: sql-query with args: {\"input\":\"SELECT AVG(rating) FROM 'Dune: Part 2'\"}\n",
            "Got output: The average rating for \"Dune: Part 2\" is approximately 8.71.\n",
            "========================\n",
            "\n"
          ]
        },
        {
          "name": "stderr",
          "output_type": "stream",
          "text": [
            "\u001b[34m\u001b[1mwandb\u001b[0m: Logged trace tree to W&B.\n"
          ]
        }
      ],
      "source": [
        "response = agent.chat(\"What is the average rating of the 2nd Dune movie?\")"
      ]
    },
    {
      "cell_type": "code",
      "execution_count": null,
      "metadata": {
        "colab": {
          "base_uri": "https://localhost:8080/"
        },
        "id": "NhsoxOpkSWAD",
        "outputId": "804386f4-b3d1-4c22-dd72-1fd047a6a5d0"
      },
      "outputs": [
        {
          "name": "stdout",
          "output_type": "stream",
          "text": [
            "The average rating of the 2nd Dune movie is approximately 8.71.\n"
          ]
        }
      ],
      "source": [
        "print(str(response))"
      ]
    },
    {
      "cell_type": "markdown",
      "metadata": {
        "id": "-2LOixbcSWAD"
      },
      "source": [
        "### Task 2: Combined RAG Pipeline\n",
        "\n",
        "Now, we can simply add our tools into the `OpenAIAgent`, and off we go!"
      ]
    },
    {
      "cell_type": "code",
      "execution_count": null,
      "metadata": {
        "id": "uxFHM2l2SWAD"
      },
      "outputs": [],
      "source": [
        "dune_agent = OpenAIAgent.from_tools(\n",
        "    tools=[auto_retrieve_tool, sql_tool],\n",
        "    verbose=True\n",
        ")"
      ]
    },
    {
      "cell_type": "code",
      "execution_count": null,
      "metadata": {
        "colab": {
          "base_uri": "https://localhost:8080/"
        },
        "id": "mYVHuBf9SWAD",
        "outputId": "e3f77503-302e-491e-9d1d-e2e7d4d9f6ff"
      },
      "outputs": [
        {
          "name": "stdout",
          "output_type": "stream",
          "text": [
            "Added user message to memory: What is the lowest rating of the 1st film?\n",
            "=== Calling Function ===\n",
            "Calling function: semantic-film-info with args: {\"query\":\"lowest rating of the 1st film\",\"filter_key_list\":[\"title\"],\"filter_value_list\":[\"Dune (2021 film)\"]}\n",
            "Got output: The lowest rating of the 1st film was an average grade of \"A−\" on an A+ to F scale by audiences polled by CinemaScore.\n",
            "========================\n",
            "\n"
          ]
        },
        {
          "name": "stderr",
          "output_type": "stream",
          "text": [
            "\u001b[34m\u001b[1mwandb\u001b[0m: Logged trace tree to W&B.\n"
          ]
        }
      ],
      "source": [
        "response = dune_agent.chat(\"What is the lowest rating of the 1st film?\")"
      ]
    },
    {
      "cell_type": "code",
      "execution_count": null,
      "metadata": {
        "colab": {
          "base_uri": "https://localhost:8080/"
        },
        "id": "k0w0VbomSWAD",
        "outputId": "df61ee6d-8843-4f92-df84-29111890b123"
      },
      "outputs": [
        {
          "name": "stdout",
          "output_type": "stream",
          "text": [
            "The lowest rating of the 1st film, \"Dune (2021 film),\" was an average grade of \"A−\" on an A+ to F scale by audiences polled by CinemaScore.\n"
          ]
        }
      ],
      "source": [
        "print(str(response))"
      ]
    },
    {
      "cell_type": "code",
      "execution_count": null,
      "metadata": {
        "colab": {
          "base_uri": "https://localhost:8080/"
        },
        "id": "BJvN-vtJSWAD",
        "outputId": "1485a111-0ecf-4544-993e-b48bcce7413a"
      },
      "outputs": [
        {
          "name": "stdout",
          "output_type": "stream",
          "text": [
            "Added user message to memory: What planet does the 1st Dune movie take place on?\n",
            "=== Calling Function ===\n",
            "Calling function: semantic-film-info with args: {\"query\":\"planet where the 1st Dune movie takes place\",\"filter_key_list\":[\"title\"],\"filter_value_list\":[\"Dune (2021 film)\"]}\n",
            "Got output: Arrakis\n",
            "========================\n",
            "\n"
          ]
        },
        {
          "name": "stderr",
          "output_type": "stream",
          "text": [
            "\u001b[34m\u001b[1mwandb\u001b[0m: Logged trace tree to W&B.\n"
          ]
        }
      ],
      "source": [
        "response = dune_agent.chat(\"What planet does the 1st Dune movie take place on?\")"
      ]
    },
    {
      "cell_type": "code",
      "execution_count": null,
      "metadata": {
        "colab": {
          "base_uri": "https://localhost:8080/"
        },
        "id": "F74wGv6NSWAD",
        "outputId": "3232efff-51e9-4b4e-a859-673d5a777598"
      },
      "outputs": [
        {
          "name": "stdout",
          "output_type": "stream",
          "text": [
            "The 1st Dune movie, \"Dune (2021 film),\" takes place on the planet Arrakis.\n"
          ]
        }
      ],
      "source": [
        "print(str(response))"
      ]
    },
    {
      "cell_type": "code",
      "execution_count": null,
      "metadata": {
        "colab": {
          "base_uri": "https://localhost:8080/"
        },
        "id": "Lvat4hmkvn3N",
        "outputId": "47406f60-dafb-4a23-9dea-541fc31a1f24"
      },
      "outputs": [
        {
          "name": "stdout",
          "output_type": "stream",
          "text": [
            "Added user message to memory: Calculate the average review of each movie - and then discuss how the average review changed over time.\n",
            "=== Calling Function ===\n",
            "Calling function: sql-query with args: {\"input\": \"Calculate the average review of Dune (2021 film)\"}\n",
            "Got output: The average review rating for Dune (2021 film) is approximately 8.34 out of 10.\n",
            "========================\n",
            "\n",
            "=== Calling Function ===\n",
            "Calling function: sql-query with args: {\"input\": \"Calculate the average review of Dune: Part 2\"}\n",
            "Got output: The average review rating for Dune: Part 2 is approximately 8.71 out of 10.\n",
            "========================\n",
            "\n"
          ]
        },
        {
          "name": "stderr",
          "output_type": "stream",
          "text": [
            "\u001b[34m\u001b[1mwandb\u001b[0m: Logged trace tree to W&B.\n"
          ]
        }
      ],
      "source": [
        "response = dune_agent.chat(\"Calculate the average review of each movie - and then discuss how the average review changed over time.\")"
      ]
    },
    {
      "cell_type": "code",
      "execution_count": null,
      "metadata": {
        "colab": {
          "base_uri": "https://localhost:8080/"
        },
        "id": "BEOpeuAovtZM",
        "outputId": "08eb37ef-1fd6-47da-9e23-6c847c4d205c"
      },
      "outputs": [
        {
          "name": "stdout",
          "output_type": "stream",
          "text": [
            "The average review rating for \"Dune (2021 film)\" is approximately 8.34 out of 10, and for \"Dune: Part 2\" is approximately 8.71 out of 10.\n",
            "\n",
            "Discussing how the average review changed over time:\n",
            "- The first film, \"Dune (2021 film),\" received an average review rating of 8.34 out of 10.\n",
            "- The second film, \"Dune: Part 2,\" received a higher average review rating of 8.71 out of 10.\n",
            "- The increase in the average review rating from the first film to the second film indicates a positive trend in audience reception and suggests that the sequel was even more well-received than the first installment.\n"
          ]
        }
      ],
      "source": [
        "print(str(response))"
      ]
    },
    {
      "cell_type": "markdown",
      "metadata": {
        "id": "WUVzyUtKqdUf"
      },
      "source": [
        "####❓ Question #4:\n",
        "\n",
        "How can you verify which tool was used for which query?"
      ]
    },
    {
      "cell_type": "code",
      "execution_count": null,
      "metadata": {
        "id": "D3ELqzOvSWAD"
      },
      "outputs": [],
      "source": [
        "wandb_callback.finish()"
      ]
    }
  ],
  "metadata": {
    "colab": {
      "provenance": []
    },
    "kernelspec": {
      "display_name": "Python 3",
      "language": "python",
      "name": "python3"
    },
    "language_info": {
      "codemirror_mode": {
        "name": "ipython",
        "version": 3
      },
      "file_extension": ".py",
      "mimetype": "text/x-python",
      "name": "python",
      "nbconvert_exporter": "python",
      "pygments_lexer": "ipython3",
      "version": "3.11.8"
    },
    "orig_nbformat": 4
  },
  "nbformat": 4,
  "nbformat_minor": 0
}
